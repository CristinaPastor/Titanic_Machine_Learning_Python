{
 "cells": [
  {
   "cell_type": "code",
   "execution_count": 1,
   "id": "8216603c-a712-4a35-971f-b74ac406dc1f",
   "metadata": {},
   "outputs": [],
   "source": [
    "import seaborn as sns\n",
    "import pandas as pd\n",
    "import numpy as np\n",
    "import matplotlib.pyplot as plt"
   ]
  },
  {
   "cell_type": "markdown",
   "id": "80b809ed-bc04-4615-b157-aa5e1183e5d8",
   "metadata": {},
   "source": [
    "# Regresión Logística"
   ]
  },
  {
   "cell_type": "markdown",
   "id": "69282111-dab9-4f8c-8518-40e4e2e10dd7",
   "metadata": {},
   "source": [
    "## Titanic\n",
    "Vamos a crear un modelo que prediga la probabilidad de supervivencia de los pasajeros\n",
    "\n",
    "https://www.kaggle.com/c/titanic/data?select=train.csv"
   ]
  },
  {
   "cell_type": "code",
   "execution_count": 2,
   "id": "13e28f33-d6f9-486a-9f3a-b0b8f53433d1",
   "metadata": {},
   "outputs": [
    {
     "data": {
      "text/html": [
       "<div>\n",
       "<style scoped>\n",
       "    .dataframe tbody tr th:only-of-type {\n",
       "        vertical-align: middle;\n",
       "    }\n",
       "\n",
       "    .dataframe tbody tr th {\n",
       "        vertical-align: top;\n",
       "    }\n",
       "\n",
       "    .dataframe thead th {\n",
       "        text-align: right;\n",
       "    }\n",
       "</style>\n",
       "<table border=\"1\" class=\"dataframe\">\n",
       "  <thead>\n",
       "    <tr style=\"text-align: right;\">\n",
       "      <th></th>\n",
       "      <th>PassengerId</th>\n",
       "      <th>Pclass</th>\n",
       "      <th>Name</th>\n",
       "      <th>Sex</th>\n",
       "      <th>Age</th>\n",
       "      <th>SibSp</th>\n",
       "      <th>Parch</th>\n",
       "      <th>Ticket</th>\n",
       "      <th>Fare</th>\n",
       "      <th>Cabin</th>\n",
       "      <th>Embarked</th>\n",
       "    </tr>\n",
       "  </thead>\n",
       "  <tbody>\n",
       "    <tr>\n",
       "      <th>0</th>\n",
       "      <td>892</td>\n",
       "      <td>3</td>\n",
       "      <td>Kelly, Mr. James</td>\n",
       "      <td>male</td>\n",
       "      <td>34.5</td>\n",
       "      <td>0</td>\n",
       "      <td>0</td>\n",
       "      <td>330911</td>\n",
       "      <td>7.8292</td>\n",
       "      <td>NaN</td>\n",
       "      <td>Q</td>\n",
       "    </tr>\n",
       "    <tr>\n",
       "      <th>1</th>\n",
       "      <td>893</td>\n",
       "      <td>3</td>\n",
       "      <td>Wilkes, Mrs. James (Ellen Needs)</td>\n",
       "      <td>female</td>\n",
       "      <td>47.0</td>\n",
       "      <td>1</td>\n",
       "      <td>0</td>\n",
       "      <td>363272</td>\n",
       "      <td>7.0000</td>\n",
       "      <td>NaN</td>\n",
       "      <td>S</td>\n",
       "    </tr>\n",
       "    <tr>\n",
       "      <th>2</th>\n",
       "      <td>894</td>\n",
       "      <td>2</td>\n",
       "      <td>Myles, Mr. Thomas Francis</td>\n",
       "      <td>male</td>\n",
       "      <td>62.0</td>\n",
       "      <td>0</td>\n",
       "      <td>0</td>\n",
       "      <td>240276</td>\n",
       "      <td>9.6875</td>\n",
       "      <td>NaN</td>\n",
       "      <td>Q</td>\n",
       "    </tr>\n",
       "    <tr>\n",
       "      <th>3</th>\n",
       "      <td>895</td>\n",
       "      <td>3</td>\n",
       "      <td>Wirz, Mr. Albert</td>\n",
       "      <td>male</td>\n",
       "      <td>27.0</td>\n",
       "      <td>0</td>\n",
       "      <td>0</td>\n",
       "      <td>315154</td>\n",
       "      <td>8.6625</td>\n",
       "      <td>NaN</td>\n",
       "      <td>S</td>\n",
       "    </tr>\n",
       "    <tr>\n",
       "      <th>4</th>\n",
       "      <td>896</td>\n",
       "      <td>3</td>\n",
       "      <td>Hirvonen, Mrs. Alexander (Helga E Lindqvist)</td>\n",
       "      <td>female</td>\n",
       "      <td>22.0</td>\n",
       "      <td>1</td>\n",
       "      <td>1</td>\n",
       "      <td>3101298</td>\n",
       "      <td>12.2875</td>\n",
       "      <td>NaN</td>\n",
       "      <td>S</td>\n",
       "    </tr>\n",
       "  </tbody>\n",
       "</table>\n",
       "</div>"
      ],
      "text/plain": [
       "   PassengerId  Pclass                                          Name     Sex  \\\n",
       "0          892       3                              Kelly, Mr. James    male   \n",
       "1          893       3              Wilkes, Mrs. James (Ellen Needs)  female   \n",
       "2          894       2                     Myles, Mr. Thomas Francis    male   \n",
       "3          895       3                              Wirz, Mr. Albert    male   \n",
       "4          896       3  Hirvonen, Mrs. Alexander (Helga E Lindqvist)  female   \n",
       "\n",
       "    Age  SibSp  Parch   Ticket     Fare Cabin Embarked  \n",
       "0  34.5      0      0   330911   7.8292   NaN        Q  \n",
       "1  47.0      1      0   363272   7.0000   NaN        S  \n",
       "2  62.0      0      0   240276   9.6875   NaN        Q  \n",
       "3  27.0      0      0   315154   8.6625   NaN        S  \n",
       "4  22.0      1      1  3101298  12.2875   NaN        S  "
      ]
     },
     "execution_count": 2,
     "metadata": {},
     "output_type": "execute_result"
    }
   ],
   "source": [
    "test = pd.read_csv(\"Titanic/test.csv\")\n",
    "test.head()"
   ]
  },
  {
   "cell_type": "code",
   "execution_count": 3,
   "id": "b9d5b462-f49e-4375-9d27-6f8b408640a4",
   "metadata": {},
   "outputs": [
    {
     "data": {
      "text/html": [
       "<div>\n",
       "<style scoped>\n",
       "    .dataframe tbody tr th:only-of-type {\n",
       "        vertical-align: middle;\n",
       "    }\n",
       "\n",
       "    .dataframe tbody tr th {\n",
       "        vertical-align: top;\n",
       "    }\n",
       "\n",
       "    .dataframe thead th {\n",
       "        text-align: right;\n",
       "    }\n",
       "</style>\n",
       "<table border=\"1\" class=\"dataframe\">\n",
       "  <thead>\n",
       "    <tr style=\"text-align: right;\">\n",
       "      <th></th>\n",
       "      <th>PassengerId</th>\n",
       "      <th>Survived</th>\n",
       "      <th>Pclass</th>\n",
       "      <th>Name</th>\n",
       "      <th>Sex</th>\n",
       "      <th>Age</th>\n",
       "      <th>SibSp</th>\n",
       "      <th>Parch</th>\n",
       "      <th>Ticket</th>\n",
       "      <th>Fare</th>\n",
       "      <th>Cabin</th>\n",
       "      <th>Embarked</th>\n",
       "    </tr>\n",
       "  </thead>\n",
       "  <tbody>\n",
       "    <tr>\n",
       "      <th>0</th>\n",
       "      <td>1</td>\n",
       "      <td>0</td>\n",
       "      <td>3</td>\n",
       "      <td>Braund, Mr. Owen Harris</td>\n",
       "      <td>male</td>\n",
       "      <td>22.0</td>\n",
       "      <td>1</td>\n",
       "      <td>0</td>\n",
       "      <td>A/5 21171</td>\n",
       "      <td>7.2500</td>\n",
       "      <td>NaN</td>\n",
       "      <td>S</td>\n",
       "    </tr>\n",
       "    <tr>\n",
       "      <th>1</th>\n",
       "      <td>2</td>\n",
       "      <td>1</td>\n",
       "      <td>1</td>\n",
       "      <td>Cumings, Mrs. John Bradley (Florence Briggs Th...</td>\n",
       "      <td>female</td>\n",
       "      <td>38.0</td>\n",
       "      <td>1</td>\n",
       "      <td>0</td>\n",
       "      <td>PC 17599</td>\n",
       "      <td>71.2833</td>\n",
       "      <td>C85</td>\n",
       "      <td>C</td>\n",
       "    </tr>\n",
       "    <tr>\n",
       "      <th>2</th>\n",
       "      <td>3</td>\n",
       "      <td>1</td>\n",
       "      <td>3</td>\n",
       "      <td>Heikkinen, Miss. Laina</td>\n",
       "      <td>female</td>\n",
       "      <td>26.0</td>\n",
       "      <td>0</td>\n",
       "      <td>0</td>\n",
       "      <td>STON/O2. 3101282</td>\n",
       "      <td>7.9250</td>\n",
       "      <td>NaN</td>\n",
       "      <td>S</td>\n",
       "    </tr>\n",
       "    <tr>\n",
       "      <th>3</th>\n",
       "      <td>4</td>\n",
       "      <td>1</td>\n",
       "      <td>1</td>\n",
       "      <td>Futrelle, Mrs. Jacques Heath (Lily May Peel)</td>\n",
       "      <td>female</td>\n",
       "      <td>35.0</td>\n",
       "      <td>1</td>\n",
       "      <td>0</td>\n",
       "      <td>113803</td>\n",
       "      <td>53.1000</td>\n",
       "      <td>C123</td>\n",
       "      <td>S</td>\n",
       "    </tr>\n",
       "    <tr>\n",
       "      <th>4</th>\n",
       "      <td>5</td>\n",
       "      <td>0</td>\n",
       "      <td>3</td>\n",
       "      <td>Allen, Mr. William Henry</td>\n",
       "      <td>male</td>\n",
       "      <td>35.0</td>\n",
       "      <td>0</td>\n",
       "      <td>0</td>\n",
       "      <td>373450</td>\n",
       "      <td>8.0500</td>\n",
       "      <td>NaN</td>\n",
       "      <td>S</td>\n",
       "    </tr>\n",
       "  </tbody>\n",
       "</table>\n",
       "</div>"
      ],
      "text/plain": [
       "   PassengerId  Survived  Pclass  \\\n",
       "0            1         0       3   \n",
       "1            2         1       1   \n",
       "2            3         1       3   \n",
       "3            4         1       1   \n",
       "4            5         0       3   \n",
       "\n",
       "                                                Name     Sex   Age  SibSp  \\\n",
       "0                            Braund, Mr. Owen Harris    male  22.0      1   \n",
       "1  Cumings, Mrs. John Bradley (Florence Briggs Th...  female  38.0      1   \n",
       "2                             Heikkinen, Miss. Laina  female  26.0      0   \n",
       "3       Futrelle, Mrs. Jacques Heath (Lily May Peel)  female  35.0      1   \n",
       "4                           Allen, Mr. William Henry    male  35.0      0   \n",
       "\n",
       "   Parch            Ticket     Fare Cabin Embarked  \n",
       "0      0         A/5 21171   7.2500   NaN        S  \n",
       "1      0          PC 17599  71.2833   C85        C  \n",
       "2      0  STON/O2. 3101282   7.9250   NaN        S  \n",
       "3      0            113803  53.1000  C123        S  \n",
       "4      0            373450   8.0500   NaN        S  "
      ]
     },
     "execution_count": 3,
     "metadata": {},
     "output_type": "execute_result"
    }
   ],
   "source": [
    "train = pd.read_csv(\"Titanic/train.csv\")\n",
    "train.head()"
   ]
  },
  {
   "cell_type": "code",
   "execution_count": 4,
   "id": "6611c7ee-2c16-4eef-b271-690ae201402c",
   "metadata": {},
   "outputs": [
    {
     "data": {
      "text/plain": [
       "(891, 12)"
      ]
     },
     "execution_count": 4,
     "metadata": {},
     "output_type": "execute_result"
    }
   ],
   "source": [
    "train.shape"
   ]
  },
  {
   "cell_type": "code",
   "execution_count": 5,
   "id": "360256f2-29da-4996-bfc0-37d371f9ea1f",
   "metadata": {},
   "outputs": [
    {
     "data": {
      "text/plain": [
       "10692"
      ]
     },
     "execution_count": 5,
     "metadata": {},
     "output_type": "execute_result"
    }
   ],
   "source": [
    "train.size # nº de celdas"
   ]
  },
  {
   "cell_type": "code",
   "execution_count": 4,
   "id": "16ccbb87-6583-427d-857c-ef0076773e60",
   "metadata": {},
   "outputs": [
    {
     "data": {
      "text/html": [
       "<div>\n",
       "<style scoped>\n",
       "    .dataframe tbody tr th:only-of-type {\n",
       "        vertical-align: middle;\n",
       "    }\n",
       "\n",
       "    .dataframe tbody tr th {\n",
       "        vertical-align: top;\n",
       "    }\n",
       "\n",
       "    .dataframe thead th {\n",
       "        text-align: right;\n",
       "    }\n",
       "</style>\n",
       "<table border=\"1\" class=\"dataframe\">\n",
       "  <thead>\n",
       "    <tr style=\"text-align: right;\">\n",
       "      <th></th>\n",
       "      <th>PassengerId</th>\n",
       "      <th>Survived</th>\n",
       "    </tr>\n",
       "  </thead>\n",
       "  <tbody>\n",
       "    <tr>\n",
       "      <th>0</th>\n",
       "      <td>892</td>\n",
       "      <td>0</td>\n",
       "    </tr>\n",
       "    <tr>\n",
       "      <th>1</th>\n",
       "      <td>893</td>\n",
       "      <td>1</td>\n",
       "    </tr>\n",
       "    <tr>\n",
       "      <th>2</th>\n",
       "      <td>894</td>\n",
       "      <td>0</td>\n",
       "    </tr>\n",
       "    <tr>\n",
       "      <th>3</th>\n",
       "      <td>895</td>\n",
       "      <td>0</td>\n",
       "    </tr>\n",
       "    <tr>\n",
       "      <th>4</th>\n",
       "      <td>896</td>\n",
       "      <td>1</td>\n",
       "    </tr>\n",
       "  </tbody>\n",
       "</table>\n",
       "</div>"
      ],
      "text/plain": [
       "   PassengerId  Survived\n",
       "0          892         0\n",
       "1          893         1\n",
       "2          894         0\n",
       "3          895         0\n",
       "4          896         1"
      ]
     },
     "execution_count": 4,
     "metadata": {},
     "output_type": "execute_result"
    }
   ],
   "source": [
    "gender_submission = pd.read_csv(\"Titanic/gender_submission.csv\", sep = \";\")\n",
    "gender_submission.head()"
   ]
  },
  {
   "cell_type": "markdown",
   "id": "dc905247-e525-4036-8205-de961aabf0c4",
   "metadata": {},
   "source": [
    "Importo data de training y testing. Agregarle a la tabla de testing la columna survived proveniente de la tabla gender_submission"
   ]
  },
  {
   "cell_type": "code",
   "execution_count": 7,
   "id": "a617b09c-dc05-4b49-9576-e722b5196a07",
   "metadata": {},
   "outputs": [
    {
     "data": {
      "text/html": [
       "<div>\n",
       "<style scoped>\n",
       "    .dataframe tbody tr th:only-of-type {\n",
       "        vertical-align: middle;\n",
       "    }\n",
       "\n",
       "    .dataframe tbody tr th {\n",
       "        vertical-align: top;\n",
       "    }\n",
       "\n",
       "    .dataframe thead th {\n",
       "        text-align: right;\n",
       "    }\n",
       "</style>\n",
       "<table border=\"1\" class=\"dataframe\">\n",
       "  <thead>\n",
       "    <tr style=\"text-align: right;\">\n",
       "      <th></th>\n",
       "      <th>PassengerId</th>\n",
       "      <th>Pclass</th>\n",
       "      <th>Name</th>\n",
       "      <th>Sex</th>\n",
       "      <th>Age</th>\n",
       "      <th>SibSp</th>\n",
       "      <th>Parch</th>\n",
       "      <th>Ticket</th>\n",
       "      <th>Fare</th>\n",
       "      <th>Cabin</th>\n",
       "      <th>Embarked</th>\n",
       "      <th>Survived</th>\n",
       "    </tr>\n",
       "  </thead>\n",
       "  <tbody>\n",
       "    <tr>\n",
       "      <th>0</th>\n",
       "      <td>892</td>\n",
       "      <td>3</td>\n",
       "      <td>Kelly, Mr. James</td>\n",
       "      <td>male</td>\n",
       "      <td>34.5</td>\n",
       "      <td>0</td>\n",
       "      <td>0</td>\n",
       "      <td>330911</td>\n",
       "      <td>7.8292</td>\n",
       "      <td>NaN</td>\n",
       "      <td>Q</td>\n",
       "      <td>0</td>\n",
       "    </tr>\n",
       "    <tr>\n",
       "      <th>1</th>\n",
       "      <td>893</td>\n",
       "      <td>3</td>\n",
       "      <td>Wilkes, Mrs. James (Ellen Needs)</td>\n",
       "      <td>female</td>\n",
       "      <td>47.0</td>\n",
       "      <td>1</td>\n",
       "      <td>0</td>\n",
       "      <td>363272</td>\n",
       "      <td>7.0000</td>\n",
       "      <td>NaN</td>\n",
       "      <td>S</td>\n",
       "      <td>1</td>\n",
       "    </tr>\n",
       "    <tr>\n",
       "      <th>2</th>\n",
       "      <td>894</td>\n",
       "      <td>2</td>\n",
       "      <td>Myles, Mr. Thomas Francis</td>\n",
       "      <td>male</td>\n",
       "      <td>62.0</td>\n",
       "      <td>0</td>\n",
       "      <td>0</td>\n",
       "      <td>240276</td>\n",
       "      <td>9.6875</td>\n",
       "      <td>NaN</td>\n",
       "      <td>Q</td>\n",
       "      <td>0</td>\n",
       "    </tr>\n",
       "    <tr>\n",
       "      <th>3</th>\n",
       "      <td>895</td>\n",
       "      <td>3</td>\n",
       "      <td>Wirz, Mr. Albert</td>\n",
       "      <td>male</td>\n",
       "      <td>27.0</td>\n",
       "      <td>0</td>\n",
       "      <td>0</td>\n",
       "      <td>315154</td>\n",
       "      <td>8.6625</td>\n",
       "      <td>NaN</td>\n",
       "      <td>S</td>\n",
       "      <td>0</td>\n",
       "    </tr>\n",
       "    <tr>\n",
       "      <th>4</th>\n",
       "      <td>896</td>\n",
       "      <td>3</td>\n",
       "      <td>Hirvonen, Mrs. Alexander (Helga E Lindqvist)</td>\n",
       "      <td>female</td>\n",
       "      <td>22.0</td>\n",
       "      <td>1</td>\n",
       "      <td>1</td>\n",
       "      <td>3101298</td>\n",
       "      <td>12.2875</td>\n",
       "      <td>NaN</td>\n",
       "      <td>S</td>\n",
       "      <td>1</td>\n",
       "    </tr>\n",
       "    <tr>\n",
       "      <th>...</th>\n",
       "      <td>...</td>\n",
       "      <td>...</td>\n",
       "      <td>...</td>\n",
       "      <td>...</td>\n",
       "      <td>...</td>\n",
       "      <td>...</td>\n",
       "      <td>...</td>\n",
       "      <td>...</td>\n",
       "      <td>...</td>\n",
       "      <td>...</td>\n",
       "      <td>...</td>\n",
       "      <td>...</td>\n",
       "    </tr>\n",
       "    <tr>\n",
       "      <th>413</th>\n",
       "      <td>1305</td>\n",
       "      <td>3</td>\n",
       "      <td>Spector, Mr. Woolf</td>\n",
       "      <td>male</td>\n",
       "      <td>NaN</td>\n",
       "      <td>0</td>\n",
       "      <td>0</td>\n",
       "      <td>A.5. 3236</td>\n",
       "      <td>8.0500</td>\n",
       "      <td>NaN</td>\n",
       "      <td>S</td>\n",
       "      <td>0</td>\n",
       "    </tr>\n",
       "    <tr>\n",
       "      <th>414</th>\n",
       "      <td>1306</td>\n",
       "      <td>1</td>\n",
       "      <td>Oliva y Ocana, Dona. Fermina</td>\n",
       "      <td>female</td>\n",
       "      <td>39.0</td>\n",
       "      <td>0</td>\n",
       "      <td>0</td>\n",
       "      <td>PC 17758</td>\n",
       "      <td>108.9000</td>\n",
       "      <td>C105</td>\n",
       "      <td>C</td>\n",
       "      <td>1</td>\n",
       "    </tr>\n",
       "    <tr>\n",
       "      <th>415</th>\n",
       "      <td>1307</td>\n",
       "      <td>3</td>\n",
       "      <td>Saether, Mr. Simon Sivertsen</td>\n",
       "      <td>male</td>\n",
       "      <td>38.5</td>\n",
       "      <td>0</td>\n",
       "      <td>0</td>\n",
       "      <td>SOTON/O.Q. 3101262</td>\n",
       "      <td>7.2500</td>\n",
       "      <td>NaN</td>\n",
       "      <td>S</td>\n",
       "      <td>0</td>\n",
       "    </tr>\n",
       "    <tr>\n",
       "      <th>416</th>\n",
       "      <td>1308</td>\n",
       "      <td>3</td>\n",
       "      <td>Ware, Mr. Frederick</td>\n",
       "      <td>male</td>\n",
       "      <td>NaN</td>\n",
       "      <td>0</td>\n",
       "      <td>0</td>\n",
       "      <td>359309</td>\n",
       "      <td>8.0500</td>\n",
       "      <td>NaN</td>\n",
       "      <td>S</td>\n",
       "      <td>0</td>\n",
       "    </tr>\n",
       "    <tr>\n",
       "      <th>417</th>\n",
       "      <td>1309</td>\n",
       "      <td>3</td>\n",
       "      <td>Peter, Master. Michael J</td>\n",
       "      <td>male</td>\n",
       "      <td>NaN</td>\n",
       "      <td>1</td>\n",
       "      <td>1</td>\n",
       "      <td>2668</td>\n",
       "      <td>22.3583</td>\n",
       "      <td>NaN</td>\n",
       "      <td>C</td>\n",
       "      <td>0</td>\n",
       "    </tr>\n",
       "  </tbody>\n",
       "</table>\n",
       "<p>418 rows × 12 columns</p>\n",
       "</div>"
      ],
      "text/plain": [
       "     PassengerId  Pclass                                          Name  \\\n",
       "0            892       3                              Kelly, Mr. James   \n",
       "1            893       3              Wilkes, Mrs. James (Ellen Needs)   \n",
       "2            894       2                     Myles, Mr. Thomas Francis   \n",
       "3            895       3                              Wirz, Mr. Albert   \n",
       "4            896       3  Hirvonen, Mrs. Alexander (Helga E Lindqvist)   \n",
       "..           ...     ...                                           ...   \n",
       "413         1305       3                            Spector, Mr. Woolf   \n",
       "414         1306       1                  Oliva y Ocana, Dona. Fermina   \n",
       "415         1307       3                  Saether, Mr. Simon Sivertsen   \n",
       "416         1308       3                           Ware, Mr. Frederick   \n",
       "417         1309       3                      Peter, Master. Michael J   \n",
       "\n",
       "        Sex   Age  SibSp  Parch              Ticket      Fare Cabin Embarked  \\\n",
       "0      male  34.5      0      0              330911    7.8292   NaN        Q   \n",
       "1    female  47.0      1      0              363272    7.0000   NaN        S   \n",
       "2      male  62.0      0      0              240276    9.6875   NaN        Q   \n",
       "3      male  27.0      0      0              315154    8.6625   NaN        S   \n",
       "4    female  22.0      1      1             3101298   12.2875   NaN        S   \n",
       "..      ...   ...    ...    ...                 ...       ...   ...      ...   \n",
       "413    male   NaN      0      0           A.5. 3236    8.0500   NaN        S   \n",
       "414  female  39.0      0      0            PC 17758  108.9000  C105        C   \n",
       "415    male  38.5      0      0  SOTON/O.Q. 3101262    7.2500   NaN        S   \n",
       "416    male   NaN      0      0              359309    8.0500   NaN        S   \n",
       "417    male   NaN      1      1                2668   22.3583   NaN        C   \n",
       "\n",
       "     Survived  \n",
       "0           0  \n",
       "1           1  \n",
       "2           0  \n",
       "3           0  \n",
       "4           1  \n",
       "..        ...  \n",
       "413         0  \n",
       "414         1  \n",
       "415         0  \n",
       "416         0  \n",
       "417         0  \n",
       "\n",
       "[418 rows x 12 columns]"
      ]
     },
     "execution_count": 7,
     "metadata": {},
     "output_type": "execute_result"
    }
   ],
   "source": [
    "test = test.merge(\n",
    "    gender_submission,\n",
    "    #left_on = [\"PassengerId\"], # no es necesario ponerlo ya que solamente hay una columna en común entre ambas tablas y es por la q quiero unirlas\n",
    "    #right_on = [\"PassengerId\"],\n",
    "    how = \"left\"\n",
    ")\n",
    "test"
   ]
  },
  {
   "cell_type": "markdown",
   "id": "dd9d9e37-fb5d-4fbc-9d35-d874e4af7097",
   "metadata": {},
   "source": [
    "1. Buscar columnas con valores nulos y cantidad de nulos en cada una. Fijarse el porcentaje de los datos nulos que representan sobre el total."
   ]
  },
  {
   "cell_type": "code",
   "execution_count": 8,
   "id": "e23fcd4c-e1be-4edf-a935-9ceddfbaa852",
   "metadata": {},
   "outputs": [
    {
     "data": {
      "text/plain": [
       "PassengerId      0\n",
       "Pclass           0\n",
       "Name             0\n",
       "Sex              0\n",
       "Age             86\n",
       "SibSp            0\n",
       "Parch            0\n",
       "Ticket           0\n",
       "Fare             1\n",
       "Cabin          327\n",
       "Embarked         0\n",
       "Survived         0\n",
       "dtype: int64"
      ]
     },
     "execution_count": 8,
     "metadata": {},
     "output_type": "execute_result"
    }
   ],
   "source": [
    "test.isnull().sum()"
   ]
  },
  {
   "cell_type": "code",
   "execution_count": 9,
   "id": "2a14ba6c-e82d-4b54-af68-cc8dc6f2f463",
   "metadata": {},
   "outputs": [
    {
     "data": {
      "text/plain": [
       "(418, 12)"
      ]
     },
     "execution_count": 9,
     "metadata": {},
     "output_type": "execute_result"
    }
   ],
   "source": [
    "test.shape"
   ]
  },
  {
   "cell_type": "code",
   "execution_count": 10,
   "id": "c2ce937f-b413-49c4-8517-d96e152dfdf3",
   "metadata": {},
   "outputs": [
    {
     "data": {
      "text/plain": [
       "PassengerId     0.000000\n",
       "Pclass          0.000000\n",
       "Name            0.000000\n",
       "Sex             0.000000\n",
       "Age            20.574163\n",
       "SibSp           0.000000\n",
       "Parch           0.000000\n",
       "Ticket          0.000000\n",
       "Fare            0.239234\n",
       "Cabin          78.229665\n",
       "Embarked        0.000000\n",
       "Survived        0.000000\n",
       "dtype: float64"
      ]
     },
     "execution_count": 10,
     "metadata": {},
     "output_type": "execute_result"
    }
   ],
   "source": [
    "test.isnull().sum()/test.shape[0] *100"
   ]
  },
  {
   "cell_type": "code",
   "execution_count": 11,
   "id": "9e6cb0f8-e78f-445c-84cf-66202cabcc52",
   "metadata": {},
   "outputs": [
    {
     "data": {
      "text/plain": [
       "PassengerId     0.000000\n",
       "Pclass          0.000000\n",
       "Name            0.000000\n",
       "Sex             0.000000\n",
       "Age            20.574163\n",
       "SibSp           0.000000\n",
       "Parch           0.000000\n",
       "Ticket          0.000000\n",
       "Fare            0.239234\n",
       "Cabin          78.229665\n",
       "Embarked        0.000000\n",
       "Survived        0.000000\n",
       "dtype: float64"
      ]
     },
     "execution_count": 11,
     "metadata": {},
     "output_type": "execute_result"
    }
   ],
   "source": [
    "test.isnull().sum()/len(test) *100"
   ]
  },
  {
   "cell_type": "code",
   "execution_count": 12,
   "id": "2f9fc26b-7561-45fe-aac8-f8e3bbb63c00",
   "metadata": {},
   "outputs": [
    {
     "data": {
      "text/plain": [
       "PassengerId      0\n",
       "Survived         0\n",
       "Pclass           0\n",
       "Name             0\n",
       "Sex              0\n",
       "Age            177\n",
       "SibSp            0\n",
       "Parch            0\n",
       "Ticket           0\n",
       "Fare             0\n",
       "Cabin          687\n",
       "Embarked         2\n",
       "dtype: int64"
      ]
     },
     "execution_count": 12,
     "metadata": {},
     "output_type": "execute_result"
    }
   ],
   "source": [
    "train.isnull().sum()"
   ]
  },
  {
   "cell_type": "code",
   "execution_count": 13,
   "id": "1c1ab0b7-e456-4a70-acbb-b6547e449c66",
   "metadata": {},
   "outputs": [
    {
     "data": {
      "text/plain": [
       "PassengerId     0.000000\n",
       "Survived        0.000000\n",
       "Pclass          0.000000\n",
       "Name            0.000000\n",
       "Sex             0.000000\n",
       "Age            19.865320\n",
       "SibSp           0.000000\n",
       "Parch           0.000000\n",
       "Ticket          0.000000\n",
       "Fare            0.000000\n",
       "Cabin          77.104377\n",
       "Embarked        0.224467\n",
       "dtype: float64"
      ]
     },
     "execution_count": 13,
     "metadata": {},
     "output_type": "execute_result"
    }
   ],
   "source": [
    "train.isnull().sum() / len(train) * 100"
   ]
  },
  {
   "cell_type": "markdown",
   "id": "8d3d80cf-8f51-4d95-ad81-cee2e6caad39",
   "metadata": {},
   "source": [
    "2. En base al resultado anterior. Cuales columnas consideran que tienen sentido completar y cuales se deberían eliminar? Eliminar la que corresponda de la tabla de test y de train."
   ]
  },
  {
   "cell_type": "code",
   "execution_count": 14,
   "id": "dbbc0168-132c-48a0-bfbe-0e51ae5a61ae",
   "metadata": {},
   "outputs": [],
   "source": [
    "test.drop(\n",
    "    labels = \"Cabin\",\n",
    "    axis = \"columns\",\n",
    "    inplace = True #para q me elimine la columna en la tabla original\n",
    ")"
   ]
  },
  {
   "cell_type": "code",
   "execution_count": 15,
   "id": "df3516c7-1139-4ccf-a342-6eae9c6e5194",
   "metadata": {},
   "outputs": [
    {
     "data": {
      "text/plain": [
       "(418, 11)"
      ]
     },
     "execution_count": 15,
     "metadata": {},
     "output_type": "execute_result"
    }
   ],
   "source": [
    "test.shape"
   ]
  },
  {
   "cell_type": "code",
   "execution_count": 16,
   "id": "3648e4ee-2b07-4ff8-b68f-a777a665f167",
   "metadata": {},
   "outputs": [],
   "source": [
    "train.drop(\n",
    "    labels = [\"Cabin\"],\n",
    "    axis = \"columns\",\n",
    "    inplace = True #para q me elimine la columna en la tabla original\n",
    ")"
   ]
  },
  {
   "cell_type": "code",
   "execution_count": 17,
   "id": "1025343d-ddad-4e3d-b221-980c7e7e8251",
   "metadata": {},
   "outputs": [
    {
     "data": {
      "text/plain": [
       "(891, 11)"
      ]
     },
     "execution_count": 17,
     "metadata": {},
     "output_type": "execute_result"
    }
   ],
   "source": [
    "train.shape"
   ]
  },
  {
   "cell_type": "markdown",
   "id": "29588450-5c78-4dba-af9b-bc2a37c561c2",
   "metadata": {},
   "source": [
    "3. Completar valores nulos con el criterio que considres correcto en cada una de las columnas (que tengan sentido completar). Esto debe hacerse tanto en la tabla de training como la de testing (con el mismo criterio en ambas).\n",
    "\n",
    "   Verificar como se distribuyen los valores de cada columna con un gráfico previamente para tener más herramientas en la decisión"
   ]
  },
  {
   "cell_type": "markdown",
   "id": "f43d6947-bcc2-4b23-bc9b-9d1b849c83a0",
   "metadata": {},
   "source": [
    "AGE"
   ]
  },
  {
   "cell_type": "code",
   "execution_count": 18,
   "id": "5a00ce5f-c13e-49c9-9720-89674191ceaf",
   "metadata": {},
   "outputs": [
    {
     "data": {
      "text/plain": [
       "<Axes: xlabel='Age', ylabel='Count'>"
      ]
     },
     "execution_count": 18,
     "metadata": {},
     "output_type": "execute_result"
    },
    {
     "data": {
      "image/png": "[encoded data removed]",
      "text/plain": [
       "<Figure size 640x480 with 1 Axes>"
      ]
     },
     "metadata": {},
     "output_type": "display_data"
    }
   ],
   "source": [
    "sns.histplot(data = test, x = \"Age\") # no coge los nulos"
   ]
  },
  {
   "cell_type": "code",
   "execution_count": 19,
   "id": "0988c78a-7163-4a8d-b9b1-7b84e2fe6249",
   "metadata": {},
   "outputs": [
    {
     "data": {
      "text/plain": [
       "30.272590361445783"
      ]
     },
     "execution_count": 19,
     "metadata": {},
     "output_type": "execute_result"
    }
   ],
   "source": [
    "test.Age.mean()"
   ]
  },
  {
   "cell_type": "code",
   "execution_count": 20,
   "id": "ebad09e8-69fd-46a1-82eb-18a80355239d",
   "metadata": {},
   "outputs": [
    {
     "data": {
      "text/plain": [
       "27.0"
      ]
     },
     "execution_count": 20,
     "metadata": {},
     "output_type": "execute_result"
    }
   ],
   "source": [
    "test.Age.median() # vamos a usar la mediana para sustituir los datos nulos, además tiene sentido con el gráfico"
   ]
  },
  {
   "cell_type": "code",
   "execution_count": 21,
   "id": "4275ac7c-b8c5-42f5-b9f0-ceb1f2c5239a",
   "metadata": {},
   "outputs": [
    {
     "data": {
      "text/plain": [
       "0    21.0\n",
       "1    24.0\n",
       "Name: Age, dtype: float64"
      ]
     },
     "execution_count": 21,
     "metadata": {},
     "output_type": "execute_result"
    }
   ],
   "source": [
    "test.Age.mode()"
   ]
  },
  {
   "cell_type": "code",
   "execution_count": 22,
   "id": "1227b9c9-80c9-41cb-aff8-cb24001a7c65",
   "metadata": {},
   "outputs": [],
   "source": [
    "test.Age = test.Age.fillna(test.Age.median())"
   ]
  },
  {
   "cell_type": "code",
   "execution_count": 23,
   "id": "8cd30203-6f74-49d9-9d99-27b2d4b87da4",
   "metadata": {},
   "outputs": [
    {
     "data": {
      "text/plain": [
       "array([34.5 , 47.  , 62.  , 27.  , 22.  , 14.  , 30.  , 26.  , 18.  ,\n",
       "       21.  , 46.  , 23.  , 63.  , 24.  , 35.  , 45.  , 55.  ,  9.  ,\n",
       "       48.  , 50.  , 22.5 , 41.  , 33.  , 18.5 , 25.  , 39.  , 60.  ,\n",
       "       36.  , 20.  , 28.  , 10.  , 17.  , 32.  , 13.  , 31.  , 29.  ,\n",
       "       28.5 , 32.5 ,  6.  , 67.  , 49.  ,  2.  , 76.  , 43.  , 16.  ,\n",
       "        1.  , 12.  , 42.  , 53.  , 26.5 , 40.  , 61.  , 60.5 ,  7.  ,\n",
       "       15.  , 54.  , 64.  , 37.  , 34.  , 11.5 ,  8.  ,  0.33, 38.  ,\n",
       "       57.  , 40.5 ,  0.92, 19.  , 36.5 ,  0.75,  0.83, 58.  ,  0.17,\n",
       "       59.  , 14.5 , 44.  ,  5.  , 51.  ,  3.  , 38.5 ])"
      ]
     },
     "execution_count": 23,
     "metadata": {},
     "output_type": "execute_result"
    }
   ],
   "source": [
    "test.Age.unique()"
   ]
  },
  {
   "cell_type": "code",
   "execution_count": 24,
   "id": "a9fc1405-410d-45b3-bef1-cd67762221b1",
   "metadata": {},
   "outputs": [
    {
     "data": {
      "text/plain": [
       "<Axes: xlabel='Age', ylabel='Count'>"
      ]
     },
     "execution_count": 24,
     "metadata": {},
     "output_type": "execute_result"
    },
    {
     "data": {
      "image/png": "[encoded data removed]",
      "text/plain": [
       "<Figure size 640x480 with 1 Axes>"
      ]
     },
     "metadata": {},
     "output_type": "display_data"
    }
   ],
   "source": [
    "sns.histplot(data = train, x = \"Age\")"
   ]
  },
  {
   "cell_type": "code",
   "execution_count": 25,
   "id": "def3c280-86cb-40f0-8c4e-6588ba71026b",
   "metadata": {},
   "outputs": [
    {
     "data": {
      "text/plain": [
       "29.69911764705882"
      ]
     },
     "execution_count": 25,
     "metadata": {},
     "output_type": "execute_result"
    }
   ],
   "source": [
    "train.Age.mean()"
   ]
  },
  {
   "cell_type": "code",
   "execution_count": 26,
   "id": "8e90aedc-9fe1-4cbb-9a7c-4452db08714c",
   "metadata": {},
   "outputs": [
    {
     "data": {
      "text/plain": [
       "28.0"
      ]
     },
     "execution_count": 26,
     "metadata": {},
     "output_type": "execute_result"
    }
   ],
   "source": [
    "train.Age.median()"
   ]
  },
  {
   "cell_type": "code",
   "execution_count": 27,
   "id": "100fc756-0674-40be-be14-76da3c79aaaf",
   "metadata": {},
   "outputs": [
    {
     "data": {
      "text/plain": [
       "0    24.0\n",
       "Name: Age, dtype: float64"
      ]
     },
     "execution_count": 27,
     "metadata": {},
     "output_type": "execute_result"
    }
   ],
   "source": [
    "train.Age.mode()"
   ]
  },
  {
   "cell_type": "code",
   "execution_count": 28,
   "id": "f7deb086-c3c5-4265-a17c-733e7a10b8ab",
   "metadata": {},
   "outputs": [
    {
     "data": {
      "text/plain": [
       "array([22.  , 38.  , 26.  , 35.  ,   nan, 54.  ,  2.  , 27.  , 14.  ,\n",
       "        4.  , 58.  , 20.  , 39.  , 55.  , 31.  , 34.  , 15.  , 28.  ,\n",
       "        8.  , 19.  , 40.  , 66.  , 42.  , 21.  , 18.  ,  3.  ,  7.  ,\n",
       "       49.  , 29.  , 65.  , 28.5 ,  5.  , 11.  , 45.  , 17.  , 32.  ,\n",
       "       16.  , 25.  ,  0.83, 30.  , 33.  , 23.  , 24.  , 46.  , 59.  ,\n",
       "       71.  , 37.  , 47.  , 14.5 , 70.5 , 32.5 , 12.  ,  9.  , 36.5 ,\n",
       "       51.  , 55.5 , 40.5 , 44.  ,  1.  , 61.  , 56.  , 50.  , 36.  ,\n",
       "       45.5 , 20.5 , 62.  , 41.  , 52.  , 63.  , 23.5 ,  0.92, 43.  ,\n",
       "       60.  , 10.  , 64.  , 13.  , 48.  ,  0.75, 53.  , 57.  , 80.  ,\n",
       "       70.  , 24.5 ,  6.  ,  0.67, 30.5 ,  0.42, 34.5 , 74.  ])"
      ]
     },
     "execution_count": 28,
     "metadata": {},
     "output_type": "execute_result"
    }
   ],
   "source": [
    "train.Age.unique()"
   ]
  },
  {
   "cell_type": "code",
   "execution_count": 29,
   "id": "705abb42-3cde-4d12-8d41-fa1bafc2bf74",
   "metadata": {},
   "outputs": [],
   "source": [
    "train.Age = train.Age.fillna(train.Age.median())"
   ]
  },
  {
   "cell_type": "code",
   "execution_count": 30,
   "id": "18c01e0e-eb7a-4f30-ab7f-16fd540db007",
   "metadata": {},
   "outputs": [
    {
     "data": {
      "text/plain": [
       "array([22.  , 38.  , 26.  , 35.  , 28.  , 54.  ,  2.  , 27.  , 14.  ,\n",
       "        4.  , 58.  , 20.  , 39.  , 55.  , 31.  , 34.  , 15.  ,  8.  ,\n",
       "       19.  , 40.  , 66.  , 42.  , 21.  , 18.  ,  3.  ,  7.  , 49.  ,\n",
       "       29.  , 65.  , 28.5 ,  5.  , 11.  , 45.  , 17.  , 32.  , 16.  ,\n",
       "       25.  ,  0.83, 30.  , 33.  , 23.  , 24.  , 46.  , 59.  , 71.  ,\n",
       "       37.  , 47.  , 14.5 , 70.5 , 32.5 , 12.  ,  9.  , 36.5 , 51.  ,\n",
       "       55.5 , 40.5 , 44.  ,  1.  , 61.  , 56.  , 50.  , 36.  , 45.5 ,\n",
       "       20.5 , 62.  , 41.  , 52.  , 63.  , 23.5 ,  0.92, 43.  , 60.  ,\n",
       "       10.  , 64.  , 13.  , 48.  ,  0.75, 53.  , 57.  , 80.  , 70.  ,\n",
       "       24.5 ,  6.  ,  0.67, 30.5 ,  0.42, 34.5 , 74.  ])"
      ]
     },
     "execution_count": 30,
     "metadata": {},
     "output_type": "execute_result"
    }
   ],
   "source": [
    "train.Age.unique()"
   ]
  },
  {
   "cell_type": "markdown",
   "id": "bb3bb879-b2a6-48ca-a8c6-6db18f989d76",
   "metadata": {},
   "source": [
    "FARE"
   ]
  },
  {
   "cell_type": "code",
   "execution_count": 31,
   "id": "4dd05dc7-344b-4044-91ce-a547e3b2eeb4",
   "metadata": {},
   "outputs": [
    {
     "data": {
      "text/plain": [
       "<Axes: xlabel='Fare', ylabel='Count'>"
      ]
     },
     "execution_count": 31,
     "metadata": {},
     "output_type": "execute_result"
    },
    {
     "data": {
      "image/png": "[encoded data removed]",
      "text/plain": [
       "<Figure size 640x480 with 1 Axes>"
      ]
     },
     "metadata": {},
     "output_type": "display_data"
    }
   ],
   "source": [
    "sns.histplot(data = test, x = \"Fare\")"
   ]
  },
  {
   "cell_type": "code",
   "execution_count": 32,
   "id": "2ee7fbee-b3ba-4a84-8cbf-440915d872c7",
   "metadata": {},
   "outputs": [
    {
     "data": {
      "text/plain": [
       "14.4542"
      ]
     },
     "execution_count": 32,
     "metadata": {},
     "output_type": "execute_result"
    }
   ],
   "source": [
    "test.Fare.median()"
   ]
  },
  {
   "cell_type": "code",
   "execution_count": 33,
   "id": "fe837f21-d735-4047-b217-9085320d2569",
   "metadata": {},
   "outputs": [
    {
     "data": {
      "text/plain": [
       "35.627188489208635"
      ]
     },
     "execution_count": 33,
     "metadata": {},
     "output_type": "execute_result"
    }
   ],
   "source": [
    "test.Fare.mean()"
   ]
  },
  {
   "cell_type": "code",
   "execution_count": 34,
   "id": "56a5e028-b6ad-4a35-95cf-ca81c9acfff4",
   "metadata": {},
   "outputs": [
    {
     "data": {
      "text/plain": [
       "0    7.75\n",
       "Name: Fare, dtype: float64"
      ]
     },
     "execution_count": 34,
     "metadata": {},
     "output_type": "execute_result"
    }
   ],
   "source": [
    "test.Fare.mode()"
   ]
  },
  {
   "cell_type": "markdown",
   "id": "3606047b-3610-4ec7-8c30-1a680c95382b",
   "metadata": {},
   "source": [
    "Los valores null de Fare es mejor sustituirlos en función de la clase en la que viajan"
   ]
  },
  {
   "cell_type": "markdown",
   "id": "01dc83b5-a3ea-4f47-ad2f-a0840c6a5e87",
   "metadata": {},
   "source": [
    "Calculo la media de Fare en función de la clase en la q viajan"
   ]
  },
  {
   "cell_type": "code",
   "execution_count": 35,
   "id": "8bcf1492-3577-47c7-a895-66ffa6f4aae6",
   "metadata": {},
   "outputs": [
    {
     "data": {
      "text/plain": [
       "Index(['PassengerId', 'Pclass', 'Name', 'Sex', 'Age', 'SibSp', 'Parch',\n",
       "       'Ticket', 'Fare', 'Embarked', 'Survived'],\n",
       "      dtype='object')"
      ]
     },
     "execution_count": 35,
     "metadata": {},
     "output_type": "execute_result"
    }
   ],
   "source": [
    "test.columns"
   ]
  },
  {
   "cell_type": "code",
   "execution_count": 36,
   "id": "60440b7b-6d39-4ea7-a68f-d134e4b5faf5",
   "metadata": {},
   "outputs": [
    {
     "data": {
      "text/plain": [
       "array([3, 2, 1], dtype=int64)"
      ]
     },
     "execution_count": 36,
     "metadata": {},
     "output_type": "execute_result"
    }
   ],
   "source": [
    "test.Pclass.unique()"
   ]
  },
  {
   "cell_type": "code",
   "execution_count": 37,
   "id": "c52c2914-09e7-46d5-b942-7e942ec8f1bc",
   "metadata": {},
   "outputs": [
    {
     "data": {
      "text/plain": [
       "Pclass\n",
       "1    94.280297\n",
       "2    22.202104\n",
       "3    12.459678\n",
       "Name: Fare, dtype: float64"
      ]
     },
     "execution_count": 37,
     "metadata": {},
     "output_type": "execute_result"
    }
   ],
   "source": [
    "test.groupby(\"Pclass\").Fare.mean()"
   ]
  },
  {
   "cell_type": "code",
   "execution_count": 38,
   "id": "d0ef681e-d9ae-4fb3-a520-990861135d8f",
   "metadata": {},
   "outputs": [
    {
     "data": {
      "text/html": [
       "<div>\n",
       "<style scoped>\n",
       "    .dataframe tbody tr th:only-of-type {\n",
       "        vertical-align: middle;\n",
       "    }\n",
       "\n",
       "    .dataframe tbody tr th {\n",
       "        vertical-align: top;\n",
       "    }\n",
       "\n",
       "    .dataframe thead th {\n",
       "        text-align: right;\n",
       "    }\n",
       "</style>\n",
       "<table border=\"1\" class=\"dataframe\">\n",
       "  <thead>\n",
       "    <tr style=\"text-align: right;\">\n",
       "      <th></th>\n",
       "      <th>PassengerId</th>\n",
       "      <th>Pclass</th>\n",
       "      <th>Name</th>\n",
       "      <th>Sex</th>\n",
       "      <th>Age</th>\n",
       "      <th>SibSp</th>\n",
       "      <th>Parch</th>\n",
       "      <th>Ticket</th>\n",
       "      <th>Fare</th>\n",
       "      <th>Embarked</th>\n",
       "      <th>Survived</th>\n",
       "    </tr>\n",
       "  </thead>\n",
       "  <tbody>\n",
       "    <tr>\n",
       "      <th>152</th>\n",
       "      <td>1044</td>\n",
       "      <td>3</td>\n",
       "      <td>Storey, Mr. Thomas</td>\n",
       "      <td>male</td>\n",
       "      <td>60.5</td>\n",
       "      <td>0</td>\n",
       "      <td>0</td>\n",
       "      <td>3701</td>\n",
       "      <td>NaN</td>\n",
       "      <td>S</td>\n",
       "      <td>0</td>\n",
       "    </tr>\n",
       "  </tbody>\n",
       "</table>\n",
       "</div>"
      ],
      "text/plain": [
       "     PassengerId  Pclass                Name   Sex   Age  SibSp  Parch Ticket  \\\n",
       "152         1044       3  Storey, Mr. Thomas  male  60.5      0      0   3701   \n",
       "\n",
       "     Fare Embarked  Survived  \n",
       "152   NaN        S         0  "
      ]
     },
     "execution_count": 38,
     "metadata": {},
     "output_type": "execute_result"
    }
   ],
   "source": [
    "test.loc[test.Fare.isnull(), :]"
   ]
  },
  {
   "cell_type": "code",
   "execution_count": 39,
   "id": "84924e51-d5af-4e1d-a67c-35dd6e85a5e3",
   "metadata": {},
   "outputs": [],
   "source": [
    "test.Fare = test.Fare.fillna(12.459678)"
   ]
  },
  {
   "cell_type": "code",
   "execution_count": 40,
   "id": "76f5ae9e-2f4f-4e42-8604-efafd913bd8d",
   "metadata": {},
   "outputs": [
    {
     "data": {
      "text/html": [
       "<div>\n",
       "<style scoped>\n",
       "    .dataframe tbody tr th:only-of-type {\n",
       "        vertical-align: middle;\n",
       "    }\n",
       "\n",
       "    .dataframe tbody tr th {\n",
       "        vertical-align: top;\n",
       "    }\n",
       "\n",
       "    .dataframe thead th {\n",
       "        text-align: right;\n",
       "    }\n",
       "</style>\n",
       "<table border=\"1\" class=\"dataframe\">\n",
       "  <thead>\n",
       "    <tr style=\"text-align: right;\">\n",
       "      <th></th>\n",
       "      <th>PassengerId</th>\n",
       "      <th>Pclass</th>\n",
       "      <th>Name</th>\n",
       "      <th>Sex</th>\n",
       "      <th>Age</th>\n",
       "      <th>SibSp</th>\n",
       "      <th>Parch</th>\n",
       "      <th>Ticket</th>\n",
       "      <th>Fare</th>\n",
       "      <th>Embarked</th>\n",
       "      <th>Survived</th>\n",
       "    </tr>\n",
       "  </thead>\n",
       "  <tbody>\n",
       "  </tbody>\n",
       "</table>\n",
       "</div>"
      ],
      "text/plain": [
       "Empty DataFrame\n",
       "Columns: [PassengerId, Pclass, Name, Sex, Age, SibSp, Parch, Ticket, Fare, Embarked, Survived]\n",
       "Index: []"
      ]
     },
     "execution_count": 40,
     "metadata": {},
     "output_type": "execute_result"
    }
   ],
   "source": [
    "test.loc[test.Fare.isnull(), :]"
   ]
  },
  {
   "cell_type": "markdown",
   "id": "ac8b44de-286a-4fc8-b0e4-439fa54e57a4",
   "metadata": {},
   "source": [
    "EMBARKED"
   ]
  },
  {
   "cell_type": "code",
   "execution_count": 41,
   "id": "08af66b6-0963-4414-9685-3c45dcadd67a",
   "metadata": {},
   "outputs": [
    {
     "data": {
      "text/plain": [
       "<Axes: xlabel='Embarked', ylabel='count'>"
      ]
     },
     "execution_count": 41,
     "metadata": {},
     "output_type": "execute_result"
    },
    {
     "data": {
      "image/png": "[encoded data removed]",
      "text/plain": [
       "<Figure size 640x480 with 1 Axes>"
      ]
     },
     "metadata": {},
     "output_type": "display_data"
    }
   ],
   "source": [
    "sns.countplot(data = train, x = \"Embarked\") #al ser discreto uso mejor cpuntplot en vez de histplot"
   ]
  },
  {
   "cell_type": "code",
   "execution_count": 42,
   "id": "1bb2acd4-2a16-4445-bfd6-118302533ed5",
   "metadata": {},
   "outputs": [
    {
     "data": {
      "text/plain": [
       "<Axes: xlabel='Embarked', ylabel='count'>"
      ]
     },
     "execution_count": 42,
     "metadata": {},
     "output_type": "execute_result"
    },
    {
     "data": {
      "image/png": "[encoded data removed]",
      "text/plain": [
       "<Figure size 640x480 with 1 Axes>"
      ]
     },
     "metadata": {},
     "output_type": "display_data"
    }
   ],
   "source": [
    "sns.countplot(data = test, x = \"Embarked\")"
   ]
  },
  {
   "cell_type": "code",
   "execution_count": 43,
   "id": "1d724acb-e29c-467e-bb1f-b105e7821265",
   "metadata": {},
   "outputs": [
    {
     "data": {
      "text/plain": [
       "0    S\n",
       "Name: Embarked, dtype: object"
      ]
     },
     "execution_count": 43,
     "metadata": {},
     "output_type": "execute_result"
    }
   ],
   "source": [
    "train.Embarked.mode() #sustituimos embarked por S"
   ]
  },
  {
   "cell_type": "code",
   "execution_count": 44,
   "id": "9a79cd4b-2646-4afc-b8e4-8d82058ff4a9",
   "metadata": {},
   "outputs": [
    {
     "data": {
      "text/plain": [
       "array(['S', 'C', 'Q', nan], dtype=object)"
      ]
     },
     "execution_count": 44,
     "metadata": {},
     "output_type": "execute_result"
    }
   ],
   "source": [
    "train.Embarked.unique()"
   ]
  },
  {
   "cell_type": "code",
   "execution_count": 45,
   "id": "b5402e75-074f-4969-bee4-d8d93d4be494",
   "metadata": {},
   "outputs": [],
   "source": [
    "train.Embarked = train.Embarked.fillna(\"S\")"
   ]
  },
  {
   "cell_type": "code",
   "execution_count": 46,
   "id": "535e7cc7-8e74-4747-a351-1db09951460e",
   "metadata": {},
   "outputs": [
    {
     "data": {
      "text/plain": [
       "array(['S', 'C', 'Q'], dtype=object)"
      ]
     },
     "execution_count": 46,
     "metadata": {},
     "output_type": "execute_result"
    }
   ],
   "source": [
    "train.Embarked.unique()"
   ]
  },
  {
   "cell_type": "code",
   "execution_count": 47,
   "id": "4710985e-f5db-4d9f-97b6-ceae216dc592",
   "metadata": {},
   "outputs": [],
   "source": [
    "test.Embarked.fillna(\n",
    "    test.Embarked.mode()[0], #si lo hago sin poner \"S\" debo indicar que me sustituya los valores por el primer valor de moda (q es S)\n",
    "    inplace = True\n",
    ")"
   ]
  },
  {
   "cell_type": "code",
   "execution_count": 48,
   "id": "ebf615d9-7936-45e5-80cb-4e1cb6c3e08c",
   "metadata": {},
   "outputs": [
    {
     "data": {
      "text/plain": [
       "array(['Q', 'S', 'C'], dtype=object)"
      ]
     },
     "execution_count": 48,
     "metadata": {},
     "output_type": "execute_result"
    }
   ],
   "source": [
    "test.Embarked.unique()"
   ]
  },
  {
   "cell_type": "markdown",
   "id": "d3ee6bd0-64c0-4ac8-b85c-da016cf66099",
   "metadata": {},
   "source": [
    "4. Realizar análisis exploratorio. Graficar las personas que sobrevivieron por:\n",
    "    - Clase (Pclass)\n",
    "    - Sexo (Sex)\n",
    "    - Costo de boleto (Fare)"
   ]
  },
  {
   "cell_type": "code",
   "execution_count": null,
   "id": "cfa4bf5e-f642-45fa-abc9-847dd564c9e2",
   "metadata": {},
   "outputs": [],
   "source": []
  },
  {
   "cell_type": "code",
   "execution_count": null,
   "id": "b039726b-1c7b-4b56-8c41-8ace3048c0ed",
   "metadata": {},
   "outputs": [],
   "source": []
  },
  {
   "cell_type": "code",
   "execution_count": null,
   "id": "f2127221-27d1-4338-ad09-72b66ab10ee3",
   "metadata": {},
   "outputs": [],
   "source": []
  },
  {
   "cell_type": "markdown",
   "id": "62a9d855-9078-45bc-ba03-632620d4b258",
   "metadata": {},
   "source": [
    "5. Verificar columnas del DataFrame e identificar sobre cuales se deberían generar variables dummies.\n",
    "   Generar columnas de dummies sobre \"Pclass\",\"Embarked\" y \"Sex\". Aplicar cambios en training y testing"
   ]
  },
  {
   "cell_type": "markdown",
   "id": "19bebacc-c9b8-4425-924e-b4ac2d30b2f4",
   "metadata": {},
   "source": [
    "El Pclass, por mucho q sean números (1, 2, 3) lo convertiremos en dummies por el hecho de que la clase tercera no es el triple de la primera, ni la segunda clase es el doble de la primera. Así la Pclass es como strings, ya que los números no indican q sea el doble o triple"
   ]
  },
  {
   "cell_type": "code",
   "execution_count": 49,
   "id": "813a6665-f27e-47d8-8db2-4233721e0885",
   "metadata": {},
   "outputs": [
    {
     "name": "stdout",
     "output_type": "stream",
     "text": [
      "PassengerId: <class 'numpy.int64'>\n",
      "Pclass: <class 'numpy.int64'>\n",
      "Name: <class 'str'>\n",
      "Sex: <class 'str'>\n",
      "Age: <class 'numpy.float64'>\n",
      "SibSp: <class 'numpy.int64'>\n",
      "Parch: <class 'numpy.int64'>\n",
      "Ticket: <class 'str'>\n",
      "Fare: <class 'numpy.float64'>\n",
      "Embarked: <class 'str'>\n",
      "Survived: <class 'numpy.int64'>\n"
     ]
    }
   ],
   "source": [
    "for i in test.columns:\n",
    "    print(f\"{i}: {type(test[i][0])}\")"
   ]
  },
  {
   "cell_type": "code",
   "execution_count": 50,
   "id": "98ef5416-23da-41d1-a124-c7f7847d862e",
   "metadata": {},
   "outputs": [
    {
     "name": "stdout",
     "output_type": "stream",
     "text": [
      "PassengerId: <class 'numpy.int64'>\n",
      "Survived: <class 'numpy.int64'>\n",
      "Pclass: <class 'numpy.int64'>\n",
      "Name: <class 'str'>\n",
      "Sex: <class 'str'>\n",
      "Age: <class 'numpy.float64'>\n",
      "SibSp: <class 'numpy.int64'>\n",
      "Parch: <class 'numpy.int64'>\n",
      "Ticket: <class 'str'>\n",
      "Fare: <class 'numpy.float64'>\n",
      "Embarked: <class 'str'>\n"
     ]
    }
   ],
   "source": [
    "for i in train.columns:\n",
    "    print(f\"{i}: {type(train[i][0])}\")"
   ]
  },
  {
   "cell_type": "code",
   "execution_count": 51,
   "id": "1e126f88-079b-4a48-b9c1-bcbe9e093f38",
   "metadata": {},
   "outputs": [],
   "source": [
    "test = pd.get_dummies(\n",
    "    test,\n",
    "    columns = [\"Pclass\",\"Embarked\", \"Sex\"], #poner las columans q queremos transformar a dummies, que son las de tipo string\n",
    "    drop_first = True\n",
    ")"
   ]
  },
  {
   "cell_type": "code",
   "execution_count": 52,
   "id": "1ff6ae89-2466-46ff-a5c0-d0fe633d42cd",
   "metadata": {},
   "outputs": [
    {
     "data": {
      "text/plain": [
       "Index(['PassengerId', 'Name', 'Age', 'SibSp', 'Parch', 'Ticket', 'Fare',\n",
       "       'Survived', 'Pclass_2', 'Pclass_3', 'Embarked_Q', 'Embarked_S',\n",
       "       'Sex_male'],\n",
       "      dtype='object')"
      ]
     },
     "execution_count": 52,
     "metadata": {},
     "output_type": "execute_result"
    }
   ],
   "source": [
    "test.columns"
   ]
  },
  {
   "cell_type": "code",
   "execution_count": 53,
   "id": "7eead7ef-d045-466c-bef7-4b761239e770",
   "metadata": {},
   "outputs": [
    {
     "data": {
      "text/plain": [
       "13"
      ]
     },
     "execution_count": 53,
     "metadata": {},
     "output_type": "execute_result"
    }
   ],
   "source": [
    "len(test.columns)"
   ]
  },
  {
   "cell_type": "code",
   "execution_count": 54,
   "id": "d778615e-30ff-4504-912b-36e4bea22001",
   "metadata": {},
   "outputs": [],
   "source": [
    "train = pd.get_dummies(\n",
    "    train,\n",
    "    columns = [\"Pclass\",\"Embarked\", \"Sex\"], #poner las columans q queremos transformar a dummies, que son las de tipo string\n",
    "    drop_first = True\n",
    ")"
   ]
  },
  {
   "cell_type": "code",
   "execution_count": 55,
   "id": "155aa756-5a35-46b6-b716-60d38a99ab5f",
   "metadata": {},
   "outputs": [
    {
     "data": {
      "text/plain": [
       "Index(['PassengerId', 'Survived', 'Name', 'Age', 'SibSp', 'Parch', 'Ticket',\n",
       "       'Fare', 'Pclass_2', 'Pclass_3', 'Embarked_Q', 'Embarked_S', 'Sex_male'],\n",
       "      dtype='object')"
      ]
     },
     "execution_count": 55,
     "metadata": {},
     "output_type": "execute_result"
    }
   ],
   "source": [
    "train.columns"
   ]
  },
  {
   "cell_type": "code",
   "execution_count": 56,
   "id": "6bbb66e5-c279-47dc-aa1d-db3232bfea18",
   "metadata": {},
   "outputs": [
    {
     "data": {
      "text/plain": [
       "13"
      ]
     },
     "execution_count": 56,
     "metadata": {},
     "output_type": "execute_result"
    }
   ],
   "source": [
    "len(train.columns)"
   ]
  },
  {
   "cell_type": "markdown",
   "id": "7e472d05-0cbe-40cb-b8fa-9cbd3fe8b371",
   "metadata": {},
   "source": [
    "6. Eliminar columnas del dataset que considere que no suman al modelo. Hacerlo en testing y training"
   ]
  },
  {
   "cell_type": "code",
   "execution_count": 57,
   "id": "4e9f62c2-ee9f-4fe8-a622-2ee6236968aa",
   "metadata": {},
   "outputs": [],
   "source": [
    "test.drop(\n",
    "    labels = [\"PassengerId\", \"Name\", 'Ticket',],\n",
    "    axis = \"columns\",\n",
    "    inplace = True\n",
    ")"
   ]
  },
  {
   "cell_type": "code",
   "execution_count": 58,
   "id": "a899d1d4-1eb0-4313-b1d7-1753ea915e3c",
   "metadata": {},
   "outputs": [
    {
     "data": {
      "text/html": [
       "<div>\n",
       "<style scoped>\n",
       "    .dataframe tbody tr th:only-of-type {\n",
       "        vertical-align: middle;\n",
       "    }\n",
       "\n",
       "    .dataframe tbody tr th {\n",
       "        vertical-align: top;\n",
       "    }\n",
       "\n",
       "    .dataframe thead th {\n",
       "        text-align: right;\n",
       "    }\n",
       "</style>\n",
       "<table border=\"1\" class=\"dataframe\">\n",
       "  <thead>\n",
       "    <tr style=\"text-align: right;\">\n",
       "      <th></th>\n",
       "      <th>Age</th>\n",
       "      <th>SibSp</th>\n",
       "      <th>Parch</th>\n",
       "      <th>Fare</th>\n",
       "      <th>Survived</th>\n",
       "      <th>Pclass_2</th>\n",
       "      <th>Pclass_3</th>\n",
       "      <th>Embarked_Q</th>\n",
       "      <th>Embarked_S</th>\n",
       "      <th>Sex_male</th>\n",
       "    </tr>\n",
       "  </thead>\n",
       "  <tbody>\n",
       "    <tr>\n",
       "      <th>0</th>\n",
       "      <td>34.5</td>\n",
       "      <td>0</td>\n",
       "      <td>0</td>\n",
       "      <td>7.8292</td>\n",
       "      <td>0</td>\n",
       "      <td>False</td>\n",
       "      <td>True</td>\n",
       "      <td>True</td>\n",
       "      <td>False</td>\n",
       "      <td>True</td>\n",
       "    </tr>\n",
       "    <tr>\n",
       "      <th>1</th>\n",
       "      <td>47.0</td>\n",
       "      <td>1</td>\n",
       "      <td>0</td>\n",
       "      <td>7.0000</td>\n",
       "      <td>1</td>\n",
       "      <td>False</td>\n",
       "      <td>True</td>\n",
       "      <td>False</td>\n",
       "      <td>True</td>\n",
       "      <td>False</td>\n",
       "    </tr>\n",
       "    <tr>\n",
       "      <th>2</th>\n",
       "      <td>62.0</td>\n",
       "      <td>0</td>\n",
       "      <td>0</td>\n",
       "      <td>9.6875</td>\n",
       "      <td>0</td>\n",
       "      <td>True</td>\n",
       "      <td>False</td>\n",
       "      <td>True</td>\n",
       "      <td>False</td>\n",
       "      <td>True</td>\n",
       "    </tr>\n",
       "    <tr>\n",
       "      <th>3</th>\n",
       "      <td>27.0</td>\n",
       "      <td>0</td>\n",
       "      <td>0</td>\n",
       "      <td>8.6625</td>\n",
       "      <td>0</td>\n",
       "      <td>False</td>\n",
       "      <td>True</td>\n",
       "      <td>False</td>\n",
       "      <td>True</td>\n",
       "      <td>True</td>\n",
       "    </tr>\n",
       "    <tr>\n",
       "      <th>4</th>\n",
       "      <td>22.0</td>\n",
       "      <td>1</td>\n",
       "      <td>1</td>\n",
       "      <td>12.2875</td>\n",
       "      <td>1</td>\n",
       "      <td>False</td>\n",
       "      <td>True</td>\n",
       "      <td>False</td>\n",
       "      <td>True</td>\n",
       "      <td>False</td>\n",
       "    </tr>\n",
       "  </tbody>\n",
       "</table>\n",
       "</div>"
      ],
      "text/plain": [
       "    Age  SibSp  Parch     Fare  Survived  Pclass_2  Pclass_3  Embarked_Q  \\\n",
       "0  34.5      0      0   7.8292         0     False      True        True   \n",
       "1  47.0      1      0   7.0000         1     False      True       False   \n",
       "2  62.0      0      0   9.6875         0      True     False        True   \n",
       "3  27.0      0      0   8.6625         0     False      True       False   \n",
       "4  22.0      1      1  12.2875         1     False      True       False   \n",
       "\n",
       "   Embarked_S  Sex_male  \n",
       "0       False      True  \n",
       "1        True     False  \n",
       "2       False      True  \n",
       "3        True      True  \n",
       "4        True     False  "
      ]
     },
     "execution_count": 58,
     "metadata": {},
     "output_type": "execute_result"
    }
   ],
   "source": [
    "test.head()"
   ]
  },
  {
   "cell_type": "code",
   "execution_count": 59,
   "id": "4b55cb89-2f93-4759-808f-b5460368826b",
   "metadata": {},
   "outputs": [],
   "source": [
    "train.drop(\n",
    "    labels = [\"PassengerId\", \"Name\", 'Ticket',],\n",
    "    axis = \"columns\",\n",
    "    inplace = True\n",
    ")"
   ]
  },
  {
   "cell_type": "code",
   "execution_count": 60,
   "id": "fefc46e1-38da-48fb-95b8-de6c8deb97c3",
   "metadata": {},
   "outputs": [
    {
     "data": {
      "text/html": [
       "<div>\n",
       "<style scoped>\n",
       "    .dataframe tbody tr th:only-of-type {\n",
       "        vertical-align: middle;\n",
       "    }\n",
       "\n",
       "    .dataframe tbody tr th {\n",
       "        vertical-align: top;\n",
       "    }\n",
       "\n",
       "    .dataframe thead th {\n",
       "        text-align: right;\n",
       "    }\n",
       "</style>\n",
       "<table border=\"1\" class=\"dataframe\">\n",
       "  <thead>\n",
       "    <tr style=\"text-align: right;\">\n",
       "      <th></th>\n",
       "      <th>Survived</th>\n",
       "      <th>Age</th>\n",
       "      <th>SibSp</th>\n",
       "      <th>Parch</th>\n",
       "      <th>Fare</th>\n",
       "      <th>Pclass_2</th>\n",
       "      <th>Pclass_3</th>\n",
       "      <th>Embarked_Q</th>\n",
       "      <th>Embarked_S</th>\n",
       "      <th>Sex_male</th>\n",
       "    </tr>\n",
       "  </thead>\n",
       "  <tbody>\n",
       "    <tr>\n",
       "      <th>0</th>\n",
       "      <td>0</td>\n",
       "      <td>22.0</td>\n",
       "      <td>1</td>\n",
       "      <td>0</td>\n",
       "      <td>7.2500</td>\n",
       "      <td>False</td>\n",
       "      <td>True</td>\n",
       "      <td>False</td>\n",
       "      <td>True</td>\n",
       "      <td>True</td>\n",
       "    </tr>\n",
       "    <tr>\n",
       "      <th>1</th>\n",
       "      <td>1</td>\n",
       "      <td>38.0</td>\n",
       "      <td>1</td>\n",
       "      <td>0</td>\n",
       "      <td>71.2833</td>\n",
       "      <td>False</td>\n",
       "      <td>False</td>\n",
       "      <td>False</td>\n",
       "      <td>False</td>\n",
       "      <td>False</td>\n",
       "    </tr>\n",
       "    <tr>\n",
       "      <th>2</th>\n",
       "      <td>1</td>\n",
       "      <td>26.0</td>\n",
       "      <td>0</td>\n",
       "      <td>0</td>\n",
       "      <td>7.9250</td>\n",
       "      <td>False</td>\n",
       "      <td>True</td>\n",
       "      <td>False</td>\n",
       "      <td>True</td>\n",
       "      <td>False</td>\n",
       "    </tr>\n",
       "    <tr>\n",
       "      <th>3</th>\n",
       "      <td>1</td>\n",
       "      <td>35.0</td>\n",
       "      <td>1</td>\n",
       "      <td>0</td>\n",
       "      <td>53.1000</td>\n",
       "      <td>False</td>\n",
       "      <td>False</td>\n",
       "      <td>False</td>\n",
       "      <td>True</td>\n",
       "      <td>False</td>\n",
       "    </tr>\n",
       "    <tr>\n",
       "      <th>4</th>\n",
       "      <td>0</td>\n",
       "      <td>35.0</td>\n",
       "      <td>0</td>\n",
       "      <td>0</td>\n",
       "      <td>8.0500</td>\n",
       "      <td>False</td>\n",
       "      <td>True</td>\n",
       "      <td>False</td>\n",
       "      <td>True</td>\n",
       "      <td>True</td>\n",
       "    </tr>\n",
       "  </tbody>\n",
       "</table>\n",
       "</div>"
      ],
      "text/plain": [
       "   Survived   Age  SibSp  Parch     Fare  Pclass_2  Pclass_3  Embarked_Q  \\\n",
       "0         0  22.0      1      0   7.2500     False      True       False   \n",
       "1         1  38.0      1      0  71.2833     False     False       False   \n",
       "2         1  26.0      0      0   7.9250     False      True       False   \n",
       "3         1  35.0      1      0  53.1000     False     False       False   \n",
       "4         0  35.0      0      0   8.0500     False      True       False   \n",
       "\n",
       "   Embarked_S  Sex_male  \n",
       "0        True      True  \n",
       "1       False     False  \n",
       "2        True     False  \n",
       "3        True     False  \n",
       "4        True      True  "
      ]
     },
     "execution_count": 60,
     "metadata": {},
     "output_type": "execute_result"
    }
   ],
   "source": [
    "train.head()"
   ]
  },
  {
   "cell_type": "markdown",
   "id": "84153db7-4a10-423a-8fda-73cd616369f7",
   "metadata": {},
   "source": [
    "7. Agregar una columna llamada \"IsMinor\" que sea 1 en caso de tener 16 años o menos y 0 en caso contrario. Hacerlo para testing y training"
   ]
  },
  {
   "cell_type": "code",
   "execution_count": 61,
   "id": "bf22a679-a538-4f98-92a7-70ef31064fb8",
   "metadata": {},
   "outputs": [
    {
     "name": "stdout",
     "output_type": "stream",
     "text": [
      "<class 'pandas.core.series.Series'>\n"
     ]
    }
   ],
   "source": [
    "print(type(test.Age))"
   ]
  },
  {
   "cell_type": "code",
   "execution_count": 62,
   "id": "456469d0-322b-40ae-b0ac-a78e118e13f8",
   "metadata": {},
   "outputs": [
    {
     "name": "stdout",
     "output_type": "stream",
     "text": [
      "<class 'numpy.float64'>\n"
     ]
    }
   ],
   "source": [
    "print(type(test.Age[0]))"
   ]
  },
  {
   "cell_type": "code",
   "execution_count": 63,
   "id": "ea40f447-faf9-499a-b0ef-9129ca20dd47",
   "metadata": {},
   "outputs": [],
   "source": [
    "test[\"IsMinor\"] = np.where(test[\"Age\"] <= 16, 1, 0)"
   ]
  },
  {
   "cell_type": "code",
   "execution_count": 64,
   "id": "38ba7510-644c-4ef6-b149-fa79c2729f1c",
   "metadata": {},
   "outputs": [
    {
     "data": {
      "text/html": [
       "<div>\n",
       "<style scoped>\n",
       "    .dataframe tbody tr th:only-of-type {\n",
       "        vertical-align: middle;\n",
       "    }\n",
       "\n",
       "    .dataframe tbody tr th {\n",
       "        vertical-align: top;\n",
       "    }\n",
       "\n",
       "    .dataframe thead th {\n",
       "        text-align: right;\n",
       "    }\n",
       "</style>\n",
       "<table border=\"1\" class=\"dataframe\">\n",
       "  <thead>\n",
       "    <tr style=\"text-align: right;\">\n",
       "      <th></th>\n",
       "      <th>Age</th>\n",
       "      <th>SibSp</th>\n",
       "      <th>Parch</th>\n",
       "      <th>Fare</th>\n",
       "      <th>Survived</th>\n",
       "      <th>Pclass_2</th>\n",
       "      <th>Pclass_3</th>\n",
       "      <th>Embarked_Q</th>\n",
       "      <th>Embarked_S</th>\n",
       "      <th>Sex_male</th>\n",
       "      <th>IsMinor</th>\n",
       "    </tr>\n",
       "  </thead>\n",
       "  <tbody>\n",
       "    <tr>\n",
       "      <th>0</th>\n",
       "      <td>34.5</td>\n",
       "      <td>0</td>\n",
       "      <td>0</td>\n",
       "      <td>7.8292</td>\n",
       "      <td>0</td>\n",
       "      <td>False</td>\n",
       "      <td>True</td>\n",
       "      <td>True</td>\n",
       "      <td>False</td>\n",
       "      <td>True</td>\n",
       "      <td>0</td>\n",
       "    </tr>\n",
       "    <tr>\n",
       "      <th>1</th>\n",
       "      <td>47.0</td>\n",
       "      <td>1</td>\n",
       "      <td>0</td>\n",
       "      <td>7.0000</td>\n",
       "      <td>1</td>\n",
       "      <td>False</td>\n",
       "      <td>True</td>\n",
       "      <td>False</td>\n",
       "      <td>True</td>\n",
       "      <td>False</td>\n",
       "      <td>0</td>\n",
       "    </tr>\n",
       "    <tr>\n",
       "      <th>2</th>\n",
       "      <td>62.0</td>\n",
       "      <td>0</td>\n",
       "      <td>0</td>\n",
       "      <td>9.6875</td>\n",
       "      <td>0</td>\n",
       "      <td>True</td>\n",
       "      <td>False</td>\n",
       "      <td>True</td>\n",
       "      <td>False</td>\n",
       "      <td>True</td>\n",
       "      <td>0</td>\n",
       "    </tr>\n",
       "    <tr>\n",
       "      <th>3</th>\n",
       "      <td>27.0</td>\n",
       "      <td>0</td>\n",
       "      <td>0</td>\n",
       "      <td>8.6625</td>\n",
       "      <td>0</td>\n",
       "      <td>False</td>\n",
       "      <td>True</td>\n",
       "      <td>False</td>\n",
       "      <td>True</td>\n",
       "      <td>True</td>\n",
       "      <td>0</td>\n",
       "    </tr>\n",
       "    <tr>\n",
       "      <th>4</th>\n",
       "      <td>22.0</td>\n",
       "      <td>1</td>\n",
       "      <td>1</td>\n",
       "      <td>12.2875</td>\n",
       "      <td>1</td>\n",
       "      <td>False</td>\n",
       "      <td>True</td>\n",
       "      <td>False</td>\n",
       "      <td>True</td>\n",
       "      <td>False</td>\n",
       "      <td>0</td>\n",
       "    </tr>\n",
       "  </tbody>\n",
       "</table>\n",
       "</div>"
      ],
      "text/plain": [
       "    Age  SibSp  Parch     Fare  Survived  Pclass_2  Pclass_3  Embarked_Q  \\\n",
       "0  34.5      0      0   7.8292         0     False      True        True   \n",
       "1  47.0      1      0   7.0000         1     False      True       False   \n",
       "2  62.0      0      0   9.6875         0      True     False        True   \n",
       "3  27.0      0      0   8.6625         0     False      True       False   \n",
       "4  22.0      1      1  12.2875         1     False      True       False   \n",
       "\n",
       "   Embarked_S  Sex_male  IsMinor  \n",
       "0       False      True        0  \n",
       "1        True     False        0  \n",
       "2       False      True        0  \n",
       "3        True      True        0  \n",
       "4        True     False        0  "
      ]
     },
     "execution_count": 64,
     "metadata": {},
     "output_type": "execute_result"
    }
   ],
   "source": [
    "test.head()"
   ]
  },
  {
   "cell_type": "code",
   "execution_count": 65,
   "id": "b75040e6-d330-4189-b416-abfc00ccce9e",
   "metadata": {},
   "outputs": [],
   "source": [
    "train[\"IsMinor\"] = np.where(train[\"Age\"] <= 16, 1, 0)"
   ]
  },
  {
   "cell_type": "code",
   "execution_count": 66,
   "id": "0b69a878-c7bb-4120-9e15-0b00e7636875",
   "metadata": {},
   "outputs": [
    {
     "data": {
      "text/html": [
       "<div>\n",
       "<style scoped>\n",
       "    .dataframe tbody tr th:only-of-type {\n",
       "        vertical-align: middle;\n",
       "    }\n",
       "\n",
       "    .dataframe tbody tr th {\n",
       "        vertical-align: top;\n",
       "    }\n",
       "\n",
       "    .dataframe thead th {\n",
       "        text-align: right;\n",
       "    }\n",
       "</style>\n",
       "<table border=\"1\" class=\"dataframe\">\n",
       "  <thead>\n",
       "    <tr style=\"text-align: right;\">\n",
       "      <th></th>\n",
       "      <th>Survived</th>\n",
       "      <th>Age</th>\n",
       "      <th>SibSp</th>\n",
       "      <th>Parch</th>\n",
       "      <th>Fare</th>\n",
       "      <th>Pclass_2</th>\n",
       "      <th>Pclass_3</th>\n",
       "      <th>Embarked_Q</th>\n",
       "      <th>Embarked_S</th>\n",
       "      <th>Sex_male</th>\n",
       "      <th>IsMinor</th>\n",
       "    </tr>\n",
       "  </thead>\n",
       "  <tbody>\n",
       "    <tr>\n",
       "      <th>0</th>\n",
       "      <td>0</td>\n",
       "      <td>22.0</td>\n",
       "      <td>1</td>\n",
       "      <td>0</td>\n",
       "      <td>7.2500</td>\n",
       "      <td>False</td>\n",
       "      <td>True</td>\n",
       "      <td>False</td>\n",
       "      <td>True</td>\n",
       "      <td>True</td>\n",
       "      <td>0</td>\n",
       "    </tr>\n",
       "    <tr>\n",
       "      <th>1</th>\n",
       "      <td>1</td>\n",
       "      <td>38.0</td>\n",
       "      <td>1</td>\n",
       "      <td>0</td>\n",
       "      <td>71.2833</td>\n",
       "      <td>False</td>\n",
       "      <td>False</td>\n",
       "      <td>False</td>\n",
       "      <td>False</td>\n",
       "      <td>False</td>\n",
       "      <td>0</td>\n",
       "    </tr>\n",
       "    <tr>\n",
       "      <th>2</th>\n",
       "      <td>1</td>\n",
       "      <td>26.0</td>\n",
       "      <td>0</td>\n",
       "      <td>0</td>\n",
       "      <td>7.9250</td>\n",
       "      <td>False</td>\n",
       "      <td>True</td>\n",
       "      <td>False</td>\n",
       "      <td>True</td>\n",
       "      <td>False</td>\n",
       "      <td>0</td>\n",
       "    </tr>\n",
       "    <tr>\n",
       "      <th>3</th>\n",
       "      <td>1</td>\n",
       "      <td>35.0</td>\n",
       "      <td>1</td>\n",
       "      <td>0</td>\n",
       "      <td>53.1000</td>\n",
       "      <td>False</td>\n",
       "      <td>False</td>\n",
       "      <td>False</td>\n",
       "      <td>True</td>\n",
       "      <td>False</td>\n",
       "      <td>0</td>\n",
       "    </tr>\n",
       "    <tr>\n",
       "      <th>4</th>\n",
       "      <td>0</td>\n",
       "      <td>35.0</td>\n",
       "      <td>0</td>\n",
       "      <td>0</td>\n",
       "      <td>8.0500</td>\n",
       "      <td>False</td>\n",
       "      <td>True</td>\n",
       "      <td>False</td>\n",
       "      <td>True</td>\n",
       "      <td>True</td>\n",
       "      <td>0</td>\n",
       "    </tr>\n",
       "  </tbody>\n",
       "</table>\n",
       "</div>"
      ],
      "text/plain": [
       "   Survived   Age  SibSp  Parch     Fare  Pclass_2  Pclass_3  Embarked_Q  \\\n",
       "0         0  22.0      1      0   7.2500     False      True       False   \n",
       "1         1  38.0      1      0  71.2833     False     False       False   \n",
       "2         1  26.0      0      0   7.9250     False      True       False   \n",
       "3         1  35.0      1      0  53.1000     False     False       False   \n",
       "4         0  35.0      0      0   8.0500     False      True       False   \n",
       "\n",
       "   Embarked_S  Sex_male  IsMinor  \n",
       "0        True      True        0  \n",
       "1       False     False        0  \n",
       "2        True     False        0  \n",
       "3        True     False        0  \n",
       "4        True      True        0  "
      ]
     },
     "execution_count": 66,
     "metadata": {},
     "output_type": "execute_result"
    }
   ],
   "source": [
    "train.head()"
   ]
  },
  {
   "cell_type": "markdown",
   "id": "cf42e214-90db-4a7d-8de3-fdbb6225c316",
   "metadata": {},
   "source": [
    "8. Ajustar modelo considerando todas las variables del dataset de training."
   ]
  },
  {
   "cell_type": "code",
   "execution_count": 67,
   "id": "3d768251-2539-4e1f-bd58-503ffe3377f5",
   "metadata": {},
   "outputs": [
    {
     "data": {
      "text/html": [
       "<div>\n",
       "<style scoped>\n",
       "    .dataframe tbody tr th:only-of-type {\n",
       "        vertical-align: middle;\n",
       "    }\n",
       "\n",
       "    .dataframe tbody tr th {\n",
       "        vertical-align: top;\n",
       "    }\n",
       "\n",
       "    .dataframe thead th {\n",
       "        text-align: right;\n",
       "    }\n",
       "</style>\n",
       "<table border=\"1\" class=\"dataframe\">\n",
       "  <thead>\n",
       "    <tr style=\"text-align: right;\">\n",
       "      <th></th>\n",
       "      <th>Age</th>\n",
       "      <th>SibSp</th>\n",
       "      <th>Parch</th>\n",
       "      <th>Fare</th>\n",
       "      <th>Survived</th>\n",
       "      <th>Pclass_2</th>\n",
       "      <th>Pclass_3</th>\n",
       "      <th>Embarked_Q</th>\n",
       "      <th>Embarked_S</th>\n",
       "      <th>Sex_male</th>\n",
       "      <th>IsMinor</th>\n",
       "    </tr>\n",
       "  </thead>\n",
       "  <tbody>\n",
       "    <tr>\n",
       "      <th>0</th>\n",
       "      <td>34.5</td>\n",
       "      <td>0</td>\n",
       "      <td>0</td>\n",
       "      <td>7.8292</td>\n",
       "      <td>0</td>\n",
       "      <td>False</td>\n",
       "      <td>True</td>\n",
       "      <td>True</td>\n",
       "      <td>False</td>\n",
       "      <td>True</td>\n",
       "      <td>0</td>\n",
       "    </tr>\n",
       "    <tr>\n",
       "      <th>1</th>\n",
       "      <td>47.0</td>\n",
       "      <td>1</td>\n",
       "      <td>0</td>\n",
       "      <td>7.0000</td>\n",
       "      <td>1</td>\n",
       "      <td>False</td>\n",
       "      <td>True</td>\n",
       "      <td>False</td>\n",
       "      <td>True</td>\n",
       "      <td>False</td>\n",
       "      <td>0</td>\n",
       "    </tr>\n",
       "    <tr>\n",
       "      <th>2</th>\n",
       "      <td>62.0</td>\n",
       "      <td>0</td>\n",
       "      <td>0</td>\n",
       "      <td>9.6875</td>\n",
       "      <td>0</td>\n",
       "      <td>True</td>\n",
       "      <td>False</td>\n",
       "      <td>True</td>\n",
       "      <td>False</td>\n",
       "      <td>True</td>\n",
       "      <td>0</td>\n",
       "    </tr>\n",
       "    <tr>\n",
       "      <th>3</th>\n",
       "      <td>27.0</td>\n",
       "      <td>0</td>\n",
       "      <td>0</td>\n",
       "      <td>8.6625</td>\n",
       "      <td>0</td>\n",
       "      <td>False</td>\n",
       "      <td>True</td>\n",
       "      <td>False</td>\n",
       "      <td>True</td>\n",
       "      <td>True</td>\n",
       "      <td>0</td>\n",
       "    </tr>\n",
       "    <tr>\n",
       "      <th>4</th>\n",
       "      <td>22.0</td>\n",
       "      <td>1</td>\n",
       "      <td>1</td>\n",
       "      <td>12.2875</td>\n",
       "      <td>1</td>\n",
       "      <td>False</td>\n",
       "      <td>True</td>\n",
       "      <td>False</td>\n",
       "      <td>True</td>\n",
       "      <td>False</td>\n",
       "      <td>0</td>\n",
       "    </tr>\n",
       "  </tbody>\n",
       "</table>\n",
       "</div>"
      ],
      "text/plain": [
       "    Age  SibSp  Parch     Fare  Survived  Pclass_2  Pclass_3  Embarked_Q  \\\n",
       "0  34.5      0      0   7.8292         0     False      True        True   \n",
       "1  47.0      1      0   7.0000         1     False      True       False   \n",
       "2  62.0      0      0   9.6875         0      True     False        True   \n",
       "3  27.0      0      0   8.6625         0     False      True       False   \n",
       "4  22.0      1      1  12.2875         1     False      True       False   \n",
       "\n",
       "   Embarked_S  Sex_male  IsMinor  \n",
       "0       False      True        0  \n",
       "1        True     False        0  \n",
       "2       False      True        0  \n",
       "3        True      True        0  \n",
       "4        True     False        0  "
      ]
     },
     "execution_count": 67,
     "metadata": {},
     "output_type": "execute_result"
    }
   ],
   "source": [
    "test.head()"
   ]
  },
  {
   "cell_type": "code",
   "execution_count": 68,
   "id": "2476e369-b297-4f8f-9636-058ffa6fcddf",
   "metadata": {},
   "outputs": [],
   "source": [
    "X_train = train.loc[:,train.columns != \"Survived\"]\n",
    "X_test = test.loc[:,test.columns != \"Survived\"]\n",
    "y_train = train.loc[:,\"Survived\"] #es una serie\n",
    "y_test = test.loc[:,\"Survived\"]"
   ]
  },
  {
   "cell_type": "markdown",
   "id": "4139a343-5d0e-4e32-831b-95ad9e2acb4d",
   "metadata": {},
   "source": [
    "El fit crea la forma de la S"
   ]
  },
  {
   "cell_type": "code",
   "execution_count": 69,
   "id": "6c447029-c574-481f-ac78-2c5dba8944fe",
   "metadata": {},
   "outputs": [
    {
     "data": {
      "text/html": [
       "<style>#sk-container-id-1 {color: black;background-color: white;}#sk-container-id-1 pre{padding: 0;}#sk-container-id-1 div.sk-toggleable {background-color: white;}#sk-container-id-1 label.sk-toggleable__label {cursor: pointer;display: block;width: 100%;margin-bottom: 0;padding: 0.3em;box-sizing: border-box;text-align: center;}#sk-container-id-1 label.sk-toggleable__label-arrow:before {content: \"▸\";float: left;margin-right: 0.25em;color: #696969;}#sk-container-id-1 label.sk-toggleable__label-arrow:hover:before {color: black;}#sk-container-id-1 div.sk-estimator:hover label.sk-toggleable__label-arrow:before {color: black;}#sk-container-id-1 div.sk-toggleable__content {max-height: 0;max-width: 0;overflow: hidden;text-align: left;background-color: #f0f8ff;}#sk-container-id-1 div.sk-toggleable__content pre {margin: 0.2em;color: black;border-radius: 0.25em;background-color: #f0f8ff;}#sk-container-id-1 input.sk-toggleable__control:checked~div.sk-toggleable__content {max-height: 200px;max-width: 100%;overflow: auto;}#sk-container-id-1 input.sk-toggleable__control:checked~label.sk-toggleable__label-arrow:before {content: \"▾\";}#sk-container-id-1 div.sk-estimator input.sk-toggleable__control:checked~label.sk-toggleable__label {background-color: #d4ebff;}#sk-container-id-1 div.sk-label input.sk-toggleable__control:checked~label.sk-toggleable__label {background-color: #d4ebff;}#sk-container-id-1 input.sk-hidden--visually {border: 0;clip: rect(1px 1px 1px 1px);clip: rect(1px, 1px, 1px, 1px);height: 1px;margin: -1px;overflow: hidden;padding: 0;position: absolute;width: 1px;}#sk-container-id-1 div.sk-estimator {font-family: monospace;background-color: #f0f8ff;border: 1px dotted black;border-radius: 0.25em;box-sizing: border-box;margin-bottom: 0.5em;}#sk-container-id-1 div.sk-estimator:hover {background-color: #d4ebff;}#sk-container-id-1 div.sk-parallel-item::after {content: \"\";width: 100%;border-bottom: 1px solid gray;flex-grow: 1;}#sk-container-id-1 div.sk-label:hover label.sk-toggleable__label {background-color: #d4ebff;}#sk-container-id-1 div.sk-serial::before {content: \"\";position: absolute;border-left: 1px solid gray;box-sizing: border-box;top: 0;bottom: 0;left: 50%;z-index: 0;}#sk-container-id-1 div.sk-serial {display: flex;flex-direction: column;align-items: center;background-color: white;padding-right: 0.2em;padding-left: 0.2em;position: relative;}#sk-container-id-1 div.sk-item {position: relative;z-index: 1;}#sk-container-id-1 div.sk-parallel {display: flex;align-items: stretch;justify-content: center;background-color: white;position: relative;}#sk-container-id-1 div.sk-item::before, #sk-container-id-1 div.sk-parallel-item::before {content: \"\";position: absolute;border-left: 1px solid gray;box-sizing: border-box;top: 0;bottom: 0;left: 50%;z-index: -1;}#sk-container-id-1 div.sk-parallel-item {display: flex;flex-direction: column;z-index: 1;position: relative;background-color: white;}#sk-container-id-1 div.sk-parallel-item:first-child::after {align-self: flex-end;width: 50%;}#sk-container-id-1 div.sk-parallel-item:last-child::after {align-self: flex-start;width: 50%;}#sk-container-id-1 div.sk-parallel-item:only-child::after {width: 0;}#sk-container-id-1 div.sk-dashed-wrapped {border: 1px dashed gray;margin: 0 0.4em 0.5em 0.4em;box-sizing: border-box;padding-bottom: 0.4em;background-color: white;}#sk-container-id-1 div.sk-label label {font-family: monospace;font-weight: bold;display: inline-block;line-height: 1.2em;}#sk-container-id-1 div.sk-label-container {text-align: center;}#sk-container-id-1 div.sk-container {/* jupyter's `normalize.less` sets `[hidden] { display: none; }` but bootstrap.min.css set `[hidden] { display: none !important; }` so we also need the `!important` here to be able to override the default hidden behavior on the sphinx rendered scikit-learn.org. See: https://github.com/scikit-learn/scikit-learn/issues/21755 */display: inline-block !important;position: relative;}#sk-container-id-1 div.sk-text-repr-fallback {display: none;}</style><div id=\"sk-container-id-1\" class=\"sk-top-container\"><div class=\"sk-text-repr-fallback\"><pre>LogisticRegression(max_iter=100000)</pre><b>In a Jupyter environment, please rerun this cell to show the HTML representation or trust the notebook. <br />On GitHub, the HTML representation is unable to render, please try loading this page with nbviewer.org.</b></div><div class=\"sk-container\" hidden><div class=\"sk-item\"><div class=\"sk-estimator sk-toggleable\"><input class=\"sk-toggleable__control sk-hidden--visually\" id=\"sk-estimator-id-1\" type=\"checkbox\" checked><label for=\"sk-estimator-id-1\" class=\"sk-toggleable__label sk-toggleable__label-arrow\">LogisticRegression</label><div class=\"sk-toggleable__content\"><pre>LogisticRegression(max_iter=100000)</pre></div></div></div></div></div>"
      ],
      "text/plain": [
       "LogisticRegression(max_iter=100000)"
      ]
     },
     "execution_count": 69,
     "metadata": {},
     "output_type": "execute_result"
    }
   ],
   "source": [
    "from sklearn.linear_model import LogisticRegression\n",
    "modelo = LogisticRegression(max_iter = 100000)\n",
    "modelo.fit(X_train, y_train)"
   ]
  },
  {
   "cell_type": "markdown",
   "id": "a9dba403-7294-47b1-bf56-44f23da9491f",
   "metadata": {},
   "source": [
    "9. Validar el modelo con datos de testing, agregar dos columnas a test_data:\n",
    "    * predicción: valor 0 o 1\n",
    "    * probabilidad_prediccion: valor de la probabilidad devuelta por el modelo"
   ]
  },
  {
   "cell_type": "code",
   "execution_count": 70,
   "id": "562b38e1-da8e-43d2-b822-ce681460d387",
   "metadata": {},
   "outputs": [
    {
     "data": {
      "text/plain": [
       "array([0, 0, 0, 0, 0, 0, 1, 0, 1, 0, 0, 0, 1, 0, 1, 1, 0, 0, 0, 1, 0, 0,\n",
       "       1, 1, 1, 0, 1, 0, 0, 0, 0, 0, 0, 0, 0, 0, 1, 1, 0, 0, 0, 0, 0, 1,\n",
       "       1, 0, 0, 0, 1, 0, 0, 0, 1, 1, 0, 0, 0, 0, 0, 1, 0, 0, 0, 1, 1, 1,\n",
       "       1, 0, 0, 1, 1, 0, 1, 1, 1, 1, 0, 1, 0, 1, 0, 0, 0, 0, 0, 0, 1, 1,\n",
       "       1, 0, 1, 0, 1, 0, 1, 0, 1, 0, 1, 0, 1, 0, 0, 0, 1, 0, 0, 0, 0, 0,\n",
       "       0, 1, 1, 1, 1, 0, 0, 1, 1, 1, 1, 0, 1, 0, 0, 1, 0, 1, 0, 0, 0, 0,\n",
       "       0, 0, 0, 0, 0, 0, 1, 0, 0, 1, 0, 0, 0, 0, 0, 0, 0, 0, 1, 0, 0, 0,\n",
       "       0, 0, 1, 1, 0, 1, 1, 0, 1, 0, 0, 0, 0, 0, 1, 1, 0, 0, 0, 0, 0, 1,\n",
       "       1, 0, 1, 1, 0, 0, 1, 0, 1, 0, 1, 0, 0, 0, 0, 0, 0, 0, 1, 0, 1, 1,\n",
       "       0, 1, 1, 0, 1, 1, 0, 1, 1, 0, 1, 0, 0, 0, 0, 1, 0, 0, 1, 0, 1, 0,\n",
       "       1, 0, 1, 0, 1, 1, 0, 1, 0, 0, 1, 1, 0, 0, 0, 0, 0, 0, 1, 1, 1, 1,\n",
       "       0, 0, 0, 0, 1, 0, 1, 1, 1, 0, 1, 0, 0, 0, 0, 0, 1, 0, 0, 0, 1, 1,\n",
       "       0, 0, 0, 0, 1, 0, 0, 0, 1, 1, 0, 1, 0, 0, 0, 0, 1, 0, 1, 1, 1, 0,\n",
       "       0, 0, 0, 0, 0, 1, 0, 0, 0, 0, 1, 0, 0, 0, 0, 0, 0, 0, 1, 1, 0, 0,\n",
       "       0, 0, 0, 0, 0, 1, 1, 1, 0, 0, 0, 0, 0, 0, 0, 0, 1, 0, 1, 0, 0, 0,\n",
       "       1, 0, 0, 1, 0, 0, 0, 0, 0, 0, 0, 0, 0, 1, 0, 1, 0, 1, 0, 1, 1, 0,\n",
       "       0, 0, 1, 0, 1, 0, 0, 0, 0, 1, 1, 0, 1, 0, 0, 1, 1, 0, 0, 1, 0, 0,\n",
       "       1, 1, 0, 0, 0, 0, 0, 0, 1, 1, 0, 1, 0, 0, 0, 0, 1, 1, 0, 0, 0, 1,\n",
       "       0, 1, 0, 0, 1, 0, 1, 0, 0, 0, 0, 0, 1, 1, 1, 1, 1, 0, 1, 0, 0, 0],\n",
       "      dtype=int64)"
      ]
     },
     "execution_count": 70,
     "metadata": {},
     "output_type": "execute_result"
    }
   ],
   "source": [
    "y_prediccion = modelo.predict(X_test)\n",
    "y_prediccion # me sale una serie con umbral en 0.5"
   ]
  },
  {
   "cell_type": "code",
   "execution_count": 71,
   "id": "f17ff303-351f-4d48-8a62-0890f4570d21",
   "metadata": {
    "collapsed": true,
    "jupyter": {
     "outputs_hidden": true
    }
   },
   "outputs": [
    {
     "data": {
      "text/plain": [
       "array([[0.88373945, 0.11626055],\n",
       "       [0.61534274, 0.38465726],\n",
       "       [0.8159497 , 0.1840503 ],\n",
       "       [0.90366732, 0.09633268],\n",
       "       [0.5085494 , 0.4914506 ],\n",
       "       [0.72363491, 0.27636509],\n",
       "       [0.33388009, 0.66611991],\n",
       "       [0.81986249, 0.18013751],\n",
       "       [0.27297553, 0.72702447],\n",
       "       [0.94311644, 0.05688356],\n",
       "       [0.90393359, 0.09606641],\n",
       "       [0.68305367, 0.31694633],\n",
       "       [0.09837934, 0.90162066],\n",
       "       [0.90169707, 0.09830293],\n",
       "       [0.17044559, 0.82955441],\n",
       "       [0.15441222, 0.84558778],\n",
       "       [0.70292968, 0.29707032],\n",
       "       [0.84631206, 0.15368794],\n",
       "       [0.50223288, 0.49776712],\n",
       "       [0.41039303, 0.58960697],\n",
       "       [0.69490908, 0.30509092],\n",
       "       [0.73680785, 0.26319215],\n",
       "       [0.09061522, 0.90938478],\n",
       "       [0.45282648, 0.54717352],\n",
       "       [0.09165553, 0.90834447],\n",
       "       [0.95792813, 0.04207187],\n",
       "       [0.05809971, 0.94190029],\n",
       "       [0.85071932, 0.14928068],\n",
       "       [0.65375041, 0.34624959],\n",
       "       [0.92783786, 0.07216214],\n",
       "       [0.87203186, 0.12796814],\n",
       "       [0.84382815, 0.15617185],\n",
       "       [0.60098049, 0.39901951],\n",
       "       [0.56485948, 0.43514052],\n",
       "       [0.56420894, 0.43579106],\n",
       "       [0.83872841, 0.16127159],\n",
       "       [0.40712945, 0.59287055],\n",
       "       [0.37391642, 0.62608358],\n",
       "       [0.89931063, 0.10068937],\n",
       "       [0.88570334, 0.11429666],\n",
       "       [0.90462525, 0.09537475],\n",
       "       [0.58207657, 0.41792343],\n",
       "       [0.92837152, 0.07162848],\n",
       "       [0.18430481, 0.81569519],\n",
       "       [0.16885597, 0.83114403],\n",
       "       [0.89987888, 0.10012112],\n",
       "       [0.58149895, 0.41850105],\n",
       "       [0.86496964, 0.13503036],\n",
       "       [0.1060988 , 0.8939012 ],\n",
       "       [0.52810265, 0.47189735],\n",
       "       [0.62559984, 0.37440016],\n",
       "       [0.65735329, 0.34264671],\n",
       "       [0.30355098, 0.69644902],\n",
       "       [0.14925546, 0.85074454],\n",
       "       [0.65686197, 0.34313803],\n",
       "       [0.89096481, 0.10903519],\n",
       "       [0.91868377, 0.08131623],\n",
       "       [0.89997781, 0.10002219],\n",
       "       [0.93042408, 0.06957592],\n",
       "       [0.03157915, 0.96842085],\n",
       "       [0.88216732, 0.11783268],\n",
       "       [0.76372621, 0.23627379],\n",
       "       [0.88458236, 0.11541764],\n",
       "       [0.29443294, 0.70556706],\n",
       "       [0.22686085, 0.77313915],\n",
       "       [0.1696675 , 0.8303325 ],\n",
       "       [0.27567719, 0.72432281],\n",
       "       [0.67374922, 0.32625078],\n",
       "       [0.50338324, 0.49661676],\n",
       "       [0.18793322, 0.81206678],\n",
       "       [0.30399821, 0.69600179],\n",
       "       [0.89134522, 0.10865478],\n",
       "       [0.41833174, 0.58166826],\n",
       "       [0.48991272, 0.51008728],\n",
       "       [0.03758608, 0.96241392],\n",
       "       [0.33558857, 0.66441143],\n",
       "       [0.90388009, 0.09611991],\n",
       "       [0.29450341, 0.70549659],\n",
       "       [0.75574575, 0.24425425],\n",
       "       [0.30399821, 0.69600179],\n",
       "       [0.71005166, 0.28994834],\n",
       "       [0.70059726, 0.29940274],\n",
       "       [0.69771091, 0.30228909],\n",
       "       [0.90393359, 0.09606641],\n",
       "       [0.66484607, 0.33515393],\n",
       "       [0.90011692, 0.09988308],\n",
       "       [0.31858842, 0.68141158],\n",
       "       [0.35856797, 0.64143203],\n",
       "       [0.31870047, 0.68129953],\n",
       "       [0.50352003, 0.49647997],\n",
       "       [0.46773603, 0.53226397],\n",
       "       [0.90397548, 0.09602452],\n",
       "       [0.15590306, 0.84409694],\n",
       "       [0.90388009, 0.09611991],\n",
       "       [0.47165768, 0.52834232],\n",
       "       [0.89992537, 0.10007463],\n",
       "       [0.27088551, 0.72911449],\n",
       "       [0.90782139, 0.09217861],\n",
       "       [0.36933218, 0.63066782],\n",
       "       [0.91515445, 0.08484555],\n",
       "       [0.11382193, 0.88617807],\n",
       "       [0.80111286, 0.19888714],\n",
       "       [0.86496964, 0.13503036],\n",
       "       [0.90197274, 0.09802726],\n",
       "       [0.18757714, 0.81242286],\n",
       "       [0.90079955, 0.09920045],\n",
       "       [0.84809687, 0.15190313],\n",
       "       [0.86496964, 0.13503036],\n",
       "       [0.90364993, 0.09635007],\n",
       "       [0.70403882, 0.29596118],\n",
       "       [0.72542075, 0.27457925],\n",
       "       [0.31867514, 0.68132486],\n",
       "       [0.0757418 , 0.9242582 ],\n",
       "       [0.27844335, 0.72155665],\n",
       "       [0.13490814, 0.86509186],\n",
       "       [0.88003738, 0.11996262],\n",
       "       [0.86368852, 0.13631148],\n",
       "       [0.19152254, 0.80847746],\n",
       "       [0.48532285, 0.51467715],\n",
       "       [0.23541905, 0.76458095],\n",
       "       [0.05282111, 0.94717889],\n",
       "       [0.90391238, 0.09608762],\n",
       "       [0.09583505, 0.90416495],\n",
       "       [0.90612012, 0.09387988],\n",
       "       [0.86496964, 0.13503036],\n",
       "       [0.38234535, 0.61765465],\n",
       "       [0.89357745, 0.10642255],\n",
       "       [0.48672552, 0.51327448],\n",
       "       [0.80278865, 0.19721135],\n",
       "       [0.89775453, 0.10224547],\n",
       "       [0.91336252, 0.08663748],\n",
       "       [0.62635315, 0.37364685],\n",
       "       [0.54551508, 0.45448492],\n",
       "       [0.90295928, 0.09704072],\n",
       "       [0.9313412 , 0.0686588 ],\n",
       "       [0.8978263 , 0.1021737 ],\n",
       "       [0.86196341, 0.13803659],\n",
       "       [0.7384746 , 0.2615254 ],\n",
       "       [0.38525907, 0.61474093],\n",
       "       [0.97609201, 0.02390799],\n",
       "       [0.58396305, 0.41603695],\n",
       "       [0.06612533, 0.93387467],\n",
       "       [0.65034109, 0.34965891],\n",
       "       [0.73727385, 0.26272615],\n",
       "       [0.66244386, 0.33755614],\n",
       "       [0.96910045, 0.03089955],\n",
       "       [0.55729564, 0.44270436],\n",
       "       [0.89348085, 0.10651915],\n",
       "       [0.58207657, 0.41792343],\n",
       "       [0.83463504, 0.16536496],\n",
       "       [0.05481182, 0.94518818],\n",
       "       [0.86300127, 0.13699873],\n",
       "       [0.95208822, 0.04791178],\n",
       "       [0.53180088, 0.46819912],\n",
       "       [0.93716081, 0.06283919],\n",
       "       [0.89793771, 0.10206229],\n",
       "       [0.04654116, 0.95345884],\n",
       "       [0.38544432, 0.61455568],\n",
       "       [0.66244386, 0.33755614],\n",
       "       [0.47313024, 0.52686976],\n",
       "       [0.31871495, 0.68128505],\n",
       "       [0.71473535, 0.28526465],\n",
       "       [0.17066989, 0.82933011],\n",
       "       [0.90424387, 0.09575613],\n",
       "       [0.79914441, 0.20085559],\n",
       "       [0.52167261, 0.47832739],\n",
       "       [0.57796902, 0.42203098],\n",
       "       [0.95314684, 0.04685316],\n",
       "       [0.06347146, 0.93652854],\n",
       "       [0.37900117, 0.62099883],\n",
       "       [0.90405347, 0.09594653],\n",
       "       [0.86331776, 0.13668224],\n",
       "       [0.92487948, 0.07512052],\n",
       "       [0.86331578, 0.13668422],\n",
       "       [0.97377106, 0.02622894],\n",
       "       [0.06933962, 0.93066038],\n",
       "       [0.14052714, 0.85947286],\n",
       "       [0.69341263, 0.30658737],\n",
       "       [0.27226519, 0.72773481],\n",
       "       [0.14764123, 0.85235877],\n",
       "       [0.75574575, 0.24425425],\n",
       "       [0.61627907, 0.38372093],\n",
       "       [0.09857514, 0.90142486],\n",
       "       [0.86496964, 0.13503036],\n",
       "       [0.04616351, 0.95383649],\n",
       "       [0.79349327, 0.20650673],\n",
       "       [0.17248023, 0.82751977],\n",
       "       [0.94164341, 0.05835659],\n",
       "       [0.94084976, 0.05915024],\n",
       "       [0.79544999, 0.20455001],\n",
       "       [0.82538759, 0.17461241],\n",
       "       [0.58261092, 0.41738908],\n",
       "       [0.80621728, 0.19378272],\n",
       "       [0.81086619, 0.18913381],\n",
       "       [0.47153358, 0.52846642],\n",
       "       [0.91521516, 0.08478484],\n",
       "       [0.16193464, 0.83806536],\n",
       "       [0.35882066, 0.64117934],\n",
       "       [0.72700134, 0.27299866],\n",
       "       [0.40706919, 0.59293081],\n",
       "       [0.31201677, 0.68798323],\n",
       "       [0.71978331, 0.28021669],\n",
       "       [0.49218069, 0.50781931],\n",
       "       [0.07743721, 0.92256279],\n",
       "       [0.73598066, 0.26401934],\n",
       "       [0.48332141, 0.51667859],\n",
       "       [0.35965306, 0.64034694],\n",
       "       [0.73151476, 0.26848524],\n",
       "       [0.07212946, 0.92787054],\n",
       "       [0.89988939, 0.10011061],\n",
       "       [0.90867644, 0.09132356],\n",
       "       [0.90422657, 0.09577343],\n",
       "       [0.64351416, 0.35648584],\n",
       "       [0.38478184, 0.61521816],\n",
       "       [0.84913246, 0.15086754],\n",
       "       [0.64805305, 0.35194695],\n",
       "       [0.31858842, 0.68141158],\n",
       "       [0.73221195, 0.26778805],\n",
       "       [0.08638161, 0.91361839],\n",
       "       [0.90388009, 0.09611991],\n",
       "       [0.18125427, 0.81874573],\n",
       "       [0.89128555, 0.10871445],\n",
       "       [0.15971587, 0.84028413],\n",
       "       [0.8913839 , 0.1086161 ],\n",
       "       [0.10947345, 0.89052655],\n",
       "       [0.37945329, 0.62054671],\n",
       "       [0.89573189, 0.10426811],\n",
       "       [0.31870047, 0.68129953],\n",
       "       [0.92563877, 0.07436123],\n",
       "       [0.78016967, 0.21983033],\n",
       "       [0.39636366, 0.60363634],\n",
       "       [0.08145042, 0.91854958],\n",
       "       [0.9237501 , 0.0762499 ],\n",
       "       [0.86490935, 0.13509065],\n",
       "       [0.60107432, 0.39892568],\n",
       "       [0.88912775, 0.11087225],\n",
       "       [0.72424139, 0.27575861],\n",
       "       [0.84331511, 0.15668489],\n",
       "       [0.22784892, 0.77215108],\n",
       "       [0.10511557, 0.89488443],\n",
       "       [0.11389996, 0.88610004],\n",
       "       [0.28936603, 0.71063397],\n",
       "       [0.61101515, 0.38898485],\n",
       "       [0.90393647, 0.09606353],\n",
       "       [0.94674071, 0.05325929],\n",
       "       [0.71798957, 0.28201043],\n",
       "       [0.15416698, 0.84583302],\n",
       "       [0.86613346, 0.13386654],\n",
       "       [0.23541905, 0.76458095],\n",
       "       [0.3968947 , 0.6031053 ],\n",
       "       [0.07659529, 0.92340471],\n",
       "       [0.88909987, 0.11090013],\n",
       "       [0.46854202, 0.53145798],\n",
       "       [0.89728609, 0.10271391],\n",
       "       [0.91380762, 0.08619238],\n",
       "       [0.90405347, 0.09594653],\n",
       "       [0.86496964, 0.13503036],\n",
       "       [0.90584793, 0.09415207],\n",
       "       [0.14945145, 0.85054855],\n",
       "       [0.89139194, 0.10860806],\n",
       "       [0.94295613, 0.05704387],\n",
       "       [0.89136131, 0.10863869],\n",
       "       [0.22508697, 0.77491303],\n",
       "       [0.19433173, 0.80566827],\n",
       "       [0.67464555, 0.32535445],\n",
       "       [0.90393359, 0.09606641],\n",
       "       [0.60762909, 0.39237091],\n",
       "       [0.90405347, 0.09594653],\n",
       "       [0.40712945, 0.59287055],\n",
       "       [0.8818486 , 0.1181514 ],\n",
       "       [0.54236683, 0.45763317],\n",
       "       [0.86496964, 0.13503036],\n",
       "       [0.05920031, 0.94079969],\n",
       "       [0.39976836, 0.60023164],\n",
       "       [0.86331776, 0.13668224],\n",
       "       [0.20041528, 0.79958472],\n",
       "       [0.74908937, 0.25091063],\n",
       "       [0.8442826 , 0.1557174 ],\n",
       "       [0.81484683, 0.18515317],\n",
       "       [0.72244084, 0.27755916],\n",
       "       [0.38467979, 0.61532021],\n",
       "       [0.76544489, 0.23455511],\n",
       "       [0.31870047, 0.68129953],\n",
       "       [0.16074031, 0.83925969],\n",
       "       [0.19289343, 0.80710657],\n",
       "       [0.92056408, 0.07943592],\n",
       "       [0.90415737, 0.09584263],\n",
       "       [0.6045457 , 0.3954543 ],\n",
       "       [0.86331578, 0.13668422],\n",
       "       [0.90388009, 0.09611991],\n",
       "       [0.56934417, 0.43065583],\n",
       "       [0.33448375, 0.66551625],\n",
       "       [0.86331578, 0.13668422],\n",
       "       [0.77660824, 0.22339176],\n",
       "       [0.91990436, 0.08009564],\n",
       "       [0.90193007, 0.09806993],\n",
       "       [0.05001063, 0.94998937],\n",
       "       [0.92783786, 0.07216214],\n",
       "       [0.58034469, 0.41965531],\n",
       "       [0.90784505, 0.09215495],\n",
       "       [0.9134494 , 0.0865506 ],\n",
       "       [0.65734204, 0.34265796],\n",
       "       [0.82516129, 0.17483871],\n",
       "       [0.89752973, 0.10247027],\n",
       "       [0.31870047, 0.68129953],\n",
       "       [0.28934889, 0.71065111],\n",
       "       [0.64539141, 0.35460859],\n",
       "       [0.69381032, 0.30618968],\n",
       "       [0.77647246, 0.22352754],\n",
       "       [0.59765718, 0.40234282],\n",
       "       [0.88420971, 0.11579029],\n",
       "       [0.84926193, 0.15073807],\n",
       "       [0.90404481, 0.09595519],\n",
       "       [0.37024865, 0.62975135],\n",
       "       [0.07708966, 0.92291034],\n",
       "       [0.2712512 , 0.7287488 ],\n",
       "       [0.62735573, 0.37264427],\n",
       "       [0.70848169, 0.29151831],\n",
       "       [0.90394802, 0.09605198],\n",
       "       [0.83770792, 0.16229208],\n",
       "       [0.90197274, 0.09802726],\n",
       "       [0.85783058, 0.14216942],\n",
       "       [0.7384746 , 0.2615254 ],\n",
       "       [0.61502011, 0.38497989],\n",
       "       [0.06011772, 0.93988228],\n",
       "       [0.8960098 , 0.1039902 ],\n",
       "       [0.113659  , 0.886341  ],\n",
       "       [0.53843983, 0.46156017],\n",
       "       [0.80829732, 0.19170268],\n",
       "       [0.71580664, 0.28419336],\n",
       "       [0.29799837, 0.70200163],\n",
       "       [0.54779603, 0.45220397],\n",
       "       [0.86331776, 0.13668224],\n",
       "       [0.3894919 , 0.6105081 ],\n",
       "       [0.90393359, 0.09606641],\n",
       "       [0.59918749, 0.40081251],\n",
       "       [0.76408642, 0.23591358],\n",
       "       [0.91919192, 0.08080808],\n",
       "       [0.71936168, 0.28063832],\n",
       "       [0.86331578, 0.13668422],\n",
       "       [0.70373788, 0.29626212],\n",
       "       [0.91351121, 0.08648879],\n",
       "       [0.9779614 , 0.0220386 ],\n",
       "       [0.02271641, 0.97728359],\n",
       "       [0.94028548, 0.05971452],\n",
       "       [0.1676507 , 0.8323493 ],\n",
       "       [0.7384746 , 0.2615254 ],\n",
       "       [0.37229641, 0.62770359],\n",
       "       [0.72915468, 0.27084532],\n",
       "       [0.18294131, 0.81705869],\n",
       "       [0.09402362, 0.90597638],\n",
       "       [0.73598066, 0.26401934],\n",
       "       [0.64874096, 0.35125904],\n",
       "       [0.88639052, 0.11360948],\n",
       "       [0.21121713, 0.78878287],\n",
       "       [0.70251042, 0.29748958],\n",
       "       [0.29211261, 0.70788739],\n",
       "       [0.90393935, 0.09606065],\n",
       "       [0.86496964, 0.13503036],\n",
       "       [0.51176127, 0.48823873],\n",
       "       [0.98403457, 0.01596543],\n",
       "       [0.17072565, 0.82927435],\n",
       "       [0.18294131, 0.81705869],\n",
       "       [0.90366732, 0.09633268],\n",
       "       [0.0784379 , 0.9215621 ],\n",
       "       [0.76417913, 0.23582087],\n",
       "       [0.90011544, 0.09988456],\n",
       "       [0.35057331, 0.64942669],\n",
       "       [0.09537915, 0.90462085],\n",
       "       [0.66861669, 0.33138331],\n",
       "       [0.78818575, 0.21181425],\n",
       "       [0.04623517, 0.95376483],\n",
       "       [0.71915567, 0.28084433],\n",
       "       [0.80992694, 0.19007306],\n",
       "       [0.20618509, 0.79381491],\n",
       "       [0.03851506, 0.96148494],\n",
       "       [0.56855616, 0.43144384],\n",
       "       [0.71702394, 0.28297606],\n",
       "       [0.70634823, 0.29365177],\n",
       "       [0.9254904 , 0.0745096 ],\n",
       "       [0.86496964, 0.13503036],\n",
       "       [0.86221601, 0.13778399],\n",
       "       [0.40092577, 0.59907423],\n",
       "       [0.44853211, 0.55146789],\n",
       "       [0.74296079, 0.25703921],\n",
       "       [0.24341359, 0.75658641],\n",
       "       [0.89785532, 0.10214468],\n",
       "       [0.85153807, 0.14846193],\n",
       "       [0.8481333 , 0.1518667 ],\n",
       "       [0.88515469, 0.11484531],\n",
       "       [0.49310887, 0.50689113],\n",
       "       [0.1636476 , 0.8363524 ],\n",
       "       [0.77023802, 0.22976198],\n",
       "       [0.82172841, 0.17827159],\n",
       "       [0.97182729, 0.02817271],\n",
       "       [0.096153  , 0.903847  ],\n",
       "       [0.85700229, 0.14299771],\n",
       "       [0.13286175, 0.86713825],\n",
       "       [0.89358535, 0.10641465],\n",
       "       [0.87530498, 0.12469502],\n",
       "       [0.05899123, 0.94100877],\n",
       "       [0.84086749, 0.15913251],\n",
       "       [0.05866608, 0.94133392],\n",
       "       [0.50515413, 0.49484587],\n",
       "       [0.66270963, 0.33729037],\n",
       "       [0.6215608 , 0.3784392 ],\n",
       "       [0.79636665, 0.20363335],\n",
       "       [0.56422006, 0.43577994],\n",
       "       [0.31872579, 0.68127421],\n",
       "       [0.20056875, 0.79943125],\n",
       "       [0.31870047, 0.68129953],\n",
       "       [0.09019   , 0.90981   ],\n",
       "       [0.41292505, 0.58707495],\n",
       "       [0.90388009, 0.09611991],\n",
       "       [0.06056635, 0.93943365],\n",
       "       [0.92464405, 0.07535595],\n",
       "       [0.90388009, 0.09611991],\n",
       "       [0.91084099, 0.08915901]])"
      ]
     },
     "execution_count": 71,
     "metadata": {},
     "output_type": "execute_result"
    }
   ],
   "source": [
    "y_prediccion_proba = modelo.predict_proba(X_test)\n",
    "y_prediccion_proba"
   ]
  },
  {
   "cell_type": "code",
   "execution_count": 72,
   "id": "46759fea-64ad-4494-999e-131719d8b566",
   "metadata": {
    "collapsed": true,
    "jupyter": {
     "outputs_hidden": true
    }
   },
   "outputs": [
    {
     "data": {
      "text/plain": [
       "array([0.11626055, 0.38465726, 0.1840503 , 0.09633268, 0.4914506 ,\n",
       "       0.27636509, 0.66611991, 0.18013751, 0.72702447, 0.05688356,\n",
       "       0.09606641, 0.31694633, 0.90162066, 0.09830293, 0.82955441,\n",
       "       0.84558778, 0.29707032, 0.15368794, 0.49776712, 0.58960697,\n",
       "       0.30509092, 0.26319215, 0.90938478, 0.54717352, 0.90834447,\n",
       "       0.04207187, 0.94190029, 0.14928068, 0.34624959, 0.07216214,\n",
       "       0.12796814, 0.15617185, 0.39901951, 0.43514052, 0.43579106,\n",
       "       0.16127159, 0.59287055, 0.62608358, 0.10068937, 0.11429666,\n",
       "       0.09537475, 0.41792343, 0.07162848, 0.81569519, 0.83114403,\n",
       "       0.10012112, 0.41850105, 0.13503036, 0.8939012 , 0.47189735,\n",
       "       0.37440016, 0.34264671, 0.69644902, 0.85074454, 0.34313803,\n",
       "       0.10903519, 0.08131623, 0.10002219, 0.06957592, 0.96842085,\n",
       "       0.11783268, 0.23627379, 0.11541764, 0.70556706, 0.77313915,\n",
       "       0.8303325 , 0.72432281, 0.32625078, 0.49661676, 0.81206678,\n",
       "       0.69600179, 0.10865478, 0.58166826, 0.51008728, 0.96241392,\n",
       "       0.66441143, 0.09611991, 0.70549659, 0.24425425, 0.69600179,\n",
       "       0.28994834, 0.29940274, 0.30228909, 0.09606641, 0.33515393,\n",
       "       0.09988308, 0.68141158, 0.64143203, 0.68129953, 0.49647997,\n",
       "       0.53226397, 0.09602452, 0.84409694, 0.09611991, 0.52834232,\n",
       "       0.10007463, 0.72911449, 0.09217861, 0.63066782, 0.08484555,\n",
       "       0.88617807, 0.19888714, 0.13503036, 0.09802726, 0.81242286,\n",
       "       0.09920045, 0.15190313, 0.13503036, 0.09635007, 0.29596118,\n",
       "       0.27457925, 0.68132486, 0.9242582 , 0.72155665, 0.86509186,\n",
       "       0.11996262, 0.13631148, 0.80847746, 0.51467715, 0.76458095,\n",
       "       0.94717889, 0.09608762, 0.90416495, 0.09387988, 0.13503036,\n",
       "       0.61765465, 0.10642255, 0.51327448, 0.19721135, 0.10224547,\n",
       "       0.08663748, 0.37364685, 0.45448492, 0.09704072, 0.0686588 ,\n",
       "       0.1021737 , 0.13803659, 0.2615254 , 0.61474093, 0.02390799,\n",
       "       0.41603695, 0.93387467, 0.34965891, 0.26272615, 0.33755614,\n",
       "       0.03089955, 0.44270436, 0.10651915, 0.41792343, 0.16536496,\n",
       "       0.94518818, 0.13699873, 0.04791178, 0.46819912, 0.06283919,\n",
       "       0.10206229, 0.95345884, 0.61455568, 0.33755614, 0.52686976,\n",
       "       0.68128505, 0.28526465, 0.82933011, 0.09575613, 0.20085559,\n",
       "       0.47832739, 0.42203098, 0.04685316, 0.93652854, 0.62099883,\n",
       "       0.09594653, 0.13668224, 0.07512052, 0.13668422, 0.02622894,\n",
       "       0.93066038, 0.85947286, 0.30658737, 0.72773481, 0.85235877,\n",
       "       0.24425425, 0.38372093, 0.90142486, 0.13503036, 0.95383649,\n",
       "       0.20650673, 0.82751977, 0.05835659, 0.05915024, 0.20455001,\n",
       "       0.17461241, 0.41738908, 0.19378272, 0.18913381, 0.52846642,\n",
       "       0.08478484, 0.83806536, 0.64117934, 0.27299866, 0.59293081,\n",
       "       0.68798323, 0.28021669, 0.50781931, 0.92256279, 0.26401934,\n",
       "       0.51667859, 0.64034694, 0.26848524, 0.92787054, 0.10011061,\n",
       "       0.09132356, 0.09577343, 0.35648584, 0.61521816, 0.15086754,\n",
       "       0.35194695, 0.68141158, 0.26778805, 0.91361839, 0.09611991,\n",
       "       0.81874573, 0.10871445, 0.84028413, 0.1086161 , 0.89052655,\n",
       "       0.62054671, 0.10426811, 0.68129953, 0.07436123, 0.21983033,\n",
       "       0.60363634, 0.91854958, 0.0762499 , 0.13509065, 0.39892568,\n",
       "       0.11087225, 0.27575861, 0.15668489, 0.77215108, 0.89488443,\n",
       "       0.88610004, 0.71063397, 0.38898485, 0.09606353, 0.05325929,\n",
       "       0.28201043, 0.84583302, 0.13386654, 0.76458095, 0.6031053 ,\n",
       "       0.92340471, 0.11090013, 0.53145798, 0.10271391, 0.08619238,\n",
       "       0.09594653, 0.13503036, 0.09415207, 0.85054855, 0.10860806,\n",
       "       0.05704387, 0.10863869, 0.77491303, 0.80566827, 0.32535445,\n",
       "       0.09606641, 0.39237091, 0.09594653, 0.59287055, 0.1181514 ,\n",
       "       0.45763317, 0.13503036, 0.94079969, 0.60023164, 0.13668224,\n",
       "       0.79958472, 0.25091063, 0.1557174 , 0.18515317, 0.27755916,\n",
       "       0.61532021, 0.23455511, 0.68129953, 0.83925969, 0.80710657,\n",
       "       0.07943592, 0.09584263, 0.3954543 , 0.13668422, 0.09611991,\n",
       "       0.43065583, 0.66551625, 0.13668422, 0.22339176, 0.08009564,\n",
       "       0.09806993, 0.94998937, 0.07216214, 0.41965531, 0.09215495,\n",
       "       0.0865506 , 0.34265796, 0.17483871, 0.10247027, 0.68129953,\n",
       "       0.71065111, 0.35460859, 0.30618968, 0.22352754, 0.40234282,\n",
       "       0.11579029, 0.15073807, 0.09595519, 0.62975135, 0.92291034,\n",
       "       0.7287488 , 0.37264427, 0.29151831, 0.09605198, 0.16229208,\n",
       "       0.09802726, 0.14216942, 0.2615254 , 0.38497989, 0.93988228,\n",
       "       0.1039902 , 0.886341  , 0.46156017, 0.19170268, 0.28419336,\n",
       "       0.70200163, 0.45220397, 0.13668224, 0.6105081 , 0.09606641,\n",
       "       0.40081251, 0.23591358, 0.08080808, 0.28063832, 0.13668422,\n",
       "       0.29626212, 0.08648879, 0.0220386 , 0.97728359, 0.05971452,\n",
       "       0.8323493 , 0.2615254 , 0.62770359, 0.27084532, 0.81705869,\n",
       "       0.90597638, 0.26401934, 0.35125904, 0.11360948, 0.78878287,\n",
       "       0.29748958, 0.70788739, 0.09606065, 0.13503036, 0.48823873,\n",
       "       0.01596543, 0.82927435, 0.81705869, 0.09633268, 0.9215621 ,\n",
       "       0.23582087, 0.09988456, 0.64942669, 0.90462085, 0.33138331,\n",
       "       0.21181425, 0.95376483, 0.28084433, 0.19007306, 0.79381491,\n",
       "       0.96148494, 0.43144384, 0.28297606, 0.29365177, 0.0745096 ,\n",
       "       0.13503036, 0.13778399, 0.59907423, 0.55146789, 0.25703921,\n",
       "       0.75658641, 0.10214468, 0.14846193, 0.1518667 , 0.11484531,\n",
       "       0.50689113, 0.8363524 , 0.22976198, 0.17827159, 0.02817271,\n",
       "       0.903847  , 0.14299771, 0.86713825, 0.10641465, 0.12469502,\n",
       "       0.94100877, 0.15913251, 0.94133392, 0.49484587, 0.33729037,\n",
       "       0.3784392 , 0.20363335, 0.43577994, 0.68127421, 0.79943125,\n",
       "       0.68129953, 0.90981   , 0.58707495, 0.09611991, 0.93943365,\n",
       "       0.07535595, 0.09611991, 0.08915901])"
      ]
     },
     "execution_count": 72,
     "metadata": {},
     "output_type": "execute_result"
    }
   ],
   "source": [
    "y_prediccion_proba_1 = modelo.predict_proba(X_test)[:,1]\n",
    "y_prediccion_proba_1"
   ]
  },
  {
   "cell_type": "markdown",
   "id": "bd025fd1-e1d5-47df-a9cb-e4992af54672",
   "metadata": {},
   "source": [
    "10. Calcular matriz de confusión"
   ]
  },
  {
   "cell_type": "code",
   "execution_count": 73,
   "id": "30dcf05f-d049-4f7e-ab7c-30d2f44eeb02",
   "metadata": {},
   "outputs": [],
   "source": [
    "from sklearn.metrics import confusion_matrix, roc_curve, roc_auc_score"
   ]
  },
  {
   "cell_type": "code",
   "execution_count": 74,
   "id": "26da18fa-d622-4b78-8d36-68c1269bb1fa",
   "metadata": {},
   "outputs": [
    {
     "data": {
      "text/plain": [
       "array([[253,  13],\n",
       "       [ 16, 136]], dtype=int64)"
      ]
     },
     "execution_count": 74,
     "metadata": {},
     "output_type": "execute_result"
    }
   ],
   "source": [
    "confusion_matrix(y_true = y_test, y_pred = y_prediccion)\n",
    "# y_test son los valores verdaderos del testing de si han sobrevivido o no\n",
    "# y_prediccion son los valores de si sobreviven o no q se predicen"
   ]
  },
  {
   "cell_type": "markdown",
   "id": "b0647506-fa6e-489b-b19f-b06aac31c2e3",
   "metadata": {},
   "source": [
    "11. Calcular Accuracy"
   ]
  },
  {
   "cell_type": "code",
   "execution_count": 75,
   "id": "2d4c7729-dc25-448e-a0f5-2b411f429952",
   "metadata": {},
   "outputs": [],
   "source": [
    "matriz_confusion = confusion_matrix(y_test, y_prediccion)\n",
    "pd.DataFrame({\n",
    "    \"y_test\": y_test,\n",
    "    \"y_prediccion\": y_prediccion\n",
    "}).groupby([\"y_test\", \"y_prediccion\"]).size()\n",
    "\n",
    "TN = matriz_confusion[0][0]\n",
    "TP = matriz_confusion[1][1]\n",
    "FN = matriz_confusion[1][0]\n",
    "FP = matriz_confusion[0][1]"
   ]
  },
  {
   "cell_type": "code",
   "execution_count": 76,
   "id": "3838e9ed-0521-46ab-9497-f4c064b166b4",
   "metadata": {},
   "outputs": [
    {
     "data": {
      "text/plain": [
       "93.0622009569378"
      ]
     },
     "execution_count": 76,
     "metadata": {},
     "output_type": "execute_result"
    }
   ],
   "source": [
    "(TN + TP) / (TN + TP + FN + FP) * 100"
   ]
  },
  {
   "cell_type": "markdown",
   "id": "9de944c0-8c5c-4499-a612-c469202705c6",
   "metadata": {},
   "source": [
    "12. Calcular sensibilidad"
   ]
  },
  {
   "cell_type": "code",
   "execution_count": 77,
   "id": "4489c898-321d-485e-aa23-77f0329e5ce1",
   "metadata": {},
   "outputs": [
    {
     "data": {
      "text/plain": [
       "89.47368421052632"
      ]
     },
     "execution_count": 77,
     "metadata": {},
     "output_type": "execute_result"
    }
   ],
   "source": [
    "TP / (TP + FN) * 100"
   ]
  },
  {
   "cell_type": "markdown",
   "id": "8bd49b7a-8622-40a8-a859-36a2892bfaed",
   "metadata": {},
   "source": [
    "13. Calcular especificidad"
   ]
  },
  {
   "cell_type": "code",
   "execution_count": 78,
   "id": "23d46e37-0c7e-47d5-9cfe-d89d9cb8ff01",
   "metadata": {},
   "outputs": [
    {
     "data": {
      "text/plain": [
       "95.11278195488721"
      ]
     },
     "execution_count": 78,
     "metadata": {},
     "output_type": "execute_result"
    }
   ],
   "source": [
    "TN / (TN + FP) * 100"
   ]
  },
  {
   "cell_type": "markdown",
   "id": "26c35c86-fe11-48c8-bb86-a3c21da3fe99",
   "metadata": {},
   "source": [
    "14. Graficar curva de ROC"
   ]
  },
  {
   "cell_type": "code",
   "execution_count": 79,
   "id": "8d1acb6b-bf41-4e07-b793-f323fb6d757a",
   "metadata": {},
   "outputs": [],
   "source": [
    "especificidad_inv, sensibilidad, threshold = roc_curve(y_test, y_prediccion_proba_1)"
   ]
  },
  {
   "cell_type": "code",
   "execution_count": 80,
   "id": "ad7dd791-7534-4f26-aa30-3624b2d60a25",
   "metadata": {},
   "outputs": [
    {
     "data": {
      "text/plain": [
       "<Axes: >"
      ]
     },
     "execution_count": 80,
     "metadata": {},
     "output_type": "execute_result"
    },
    {
     "data": {
      "image/png": "[encoded data removed]",
      "text/plain": [
       "<Figure size 640x480 with 1 Axes>"
      ]
     },
     "metadata": {},
     "output_type": "display_data"
    }
   ],
   "source": [
    "recta_x = [i * 0.01 for i in range(101)]\n",
    "recta_y = recta_x\n",
    "\n",
    "sns.lineplot(x = especificidad_inv, y = sensibilidad)\n",
    "sns.lineplot(x = recta_x, y = recta_y, color = \"red\", ls = \"--\")"
   ]
  },
  {
   "cell_type": "markdown",
   "id": "01f5ec9f-8abc-40bf-a64b-0f3121a3ef0a",
   "metadata": {},
   "source": [
    "15. Calcular valor de área bajo la curva de ROC"
   ]
  },
  {
   "cell_type": "code",
   "execution_count": 81,
   "id": "df5af997-62ea-4584-9a61-3e163047a727",
   "metadata": {},
   "outputs": [
    {
     "data": {
      "text/plain": [
       "0.9764048278591215"
      ]
     },
     "execution_count": 81,
     "metadata": {},
     "output_type": "execute_result"
    }
   ],
   "source": [
    "roc_auc_score(y_test, y_prediccion_proba_1)"
   ]
  },
  {
   "cell_type": "markdown",
   "id": "274b318b-60db-4660-9ff8-4e75e3e4d3cd",
   "metadata": {},
   "source": [
    "El valor del área casi es 1, por lo que el modelo está bastante bien"
   ]
  },
  {
   "cell_type": "code",
   "execution_count": 82,
   "id": "8bddc252-8711-4a14-b3f5-d077df40af88",
   "metadata": {},
   "outputs": [
    {
     "data": {
      "text/plain": [
       "<Axes: >"
      ]
     },
     "execution_count": 82,
     "metadata": {},
     "output_type": "execute_result"
    },
    {
     "data": {
      "image/png": "[encoded data removed]",
      "text/plain": [
       "<Figure size 640x480 with 1 Axes>"
      ]
     },
     "metadata": {},
     "output_type": "display_data"
    }
   ],
   "source": [
    "sns.scatterplot(x = range(len(y_prediccion_proba_1)), y = sorted(y_prediccion_proba_1))"
   ]
  },
  {
   "cell_type": "markdown",
   "id": "3e816d17-f99f-4cb2-a014-a31116981809",
   "metadata": {},
   "source": [
    "Sobre esta gráfica habría q aplicar la fórmula para obtener la S"
   ]
  },
  {
   "cell_type": "code",
   "execution_count": null,
   "id": "c1b4e48e-6fe8-474a-8389-9e4b1074271c",
   "metadata": {},
   "outputs": [],
   "source": []
  }
 ],
 "metadata": {
  "kernelspec": {
   "display_name": "Python 3 (ipykernel)",
   "language": "python",
   "name": "python3"
  },
  "language_info": {
   "codemirror_mode": {
    "name": "ipython",
    "version": 3
   },
   "file_extension": ".py",
   "mimetype": "text/x-python",
   "name": "python",
   "nbconvert_exporter": "python",
   "pygments_lexer": "ipython3",
   "version": "3.11.7"
  }
 },
 "nbformat": 4,
 "nbformat_minor": 5
}
